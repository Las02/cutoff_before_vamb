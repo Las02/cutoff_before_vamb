{
 "cells": [
  {
   "cell_type": "code",
   "execution_count": 1,
   "id": "ef337243-6c80-4060-b6b0-6b99e299e87a",
   "metadata": {},
   "outputs": [],
   "source": [
    "using BinBencherBackend\n",
    "#using VambBenchmarks\n",
    "# Load in the data\n",
    "#sample = \"Oral\"\n",
    "#ref = Reference(\"/home/projects/ku_00197/data/ptracker/tmp/outdir_refs/ref_spades_Oral.json\")\n",
    "#subset!(ref; genomes = is_organism)"
   ]
  },
  {
   "cell_type": "code",
   "execution_count": 2,
   "id": "b2e9bc2e-fe70-4dd0-9272-d83f414f2f5d",
   "metadata": {},
   "outputs": [
    {
     "data": {
      "text/plain": [
       "Binning\n",
       "  Reference\n",
       "    Genomes:    1394\n",
       "    Sequences:  1613696\n",
       "    Ranks:      9\n",
       "    Seq length: 56\n",
       "    Assembled:  32.0 %\n",
       "  Bins:        12394\n",
       "  NC genomes:  17\n",
       "  Precisions: [0.6, 0.7, 0.8, 0.9, 0.95, 0.99]\n",
       "  Recalls:    [0.6, 0.7, 0.8, 0.9, 0.95, 0.99]\n",
       "  Recoverable genomes: [427, 350, 267, 157, 106, 0]\n",
       "  Reconstruction (assemblies):\n",
       "    P\\R   0.6  0.7  0.8  0.9 0.95 0.99\n",
       "    0.6    69   57   44   31   16    2\n",
       "    0.7    63   54   41   29   16    2\n",
       "    0.8    54   45   37   25   15    2\n",
       "    0.9    39   33   29   19   10    2\n",
       "    0.95   34   30   27   18    9    2\n",
       "    0.99   20   19   19   13    6    1\n"
      ]
     },
     "execution_count": 2,
     "metadata": {},
     "output_type": "execute_result"
    }
   ],
   "source": [
    "## Vamb fra andet run\n",
    "ref = open(i -> Reference(i), \"/home/projects/ku_00197/data/ptracker/tmp/outdir_refs_ef/ref_spades_Airways.json\")\n",
    "subset!(ref;\n",
    "           genomes = is_organism\n",
    "       )\n",
    "final = \"/home/projects/ku_00197/data/ptracker/tmp/errorfree/Airways/vambout/vae_clusters.tsv\"\n",
    "#final = \"/home/projects/ku_00197/data/ptracker/tmp/errorfree/Airways/vambout/vae_clusters.tsv\"\n",
    "bins = open(i -> Binning(i, ref), final)\n",
    "\n",
    "\n",
    " #print_matrix(bins; level=1, assembly=false)\n",
    " #print_matrix(bins; level=1, assembly=true)"
   ]
  },
  {
   "cell_type": "code",
   "execution_count": 25,
   "id": "368cfc96-1903-40fe-946e-2e3b6b6d1485",
   "metadata": {},
   "outputs": [
    {
     "data": {
      "text/plain": [
       "Binning\n",
       "  Reference\n",
       "    Genomes:    2341\n",
       "    Sequences:  1613696\n",
       "    Ranks:      9\n",
       "    Seq length: 56\n",
       "    Assembled:  32.4 %\n",
       "  Bins:        9227\n",
       "  NC genomes:  66\n",
       "  Precisions: [0.6, 0.7, 0.8, 0.9, 0.95, 0.99]\n",
       "  Recalls:    [0.6, 0.7, 0.8, 0.9, 0.95, 0.99]\n",
       "  Recoverable genomes: [849, 753, 635, 481, 371, 0]\n",
       "  Reconstruction (assemblies):\n",
       "    P\\R   0.6  0.7  0.8  0.9 0.95 0.99\n",
       "    0.6   157  133  115   87   71   44\n",
       "    0.7   147  127  109   83   68   43\n",
       "    0.8   134  116  103   77   65   42\n",
       "    0.9   118  106   96   74   62   40\n",
       "    0.95  106   99   93   73   61   40\n",
       "    0.99   83   78   76   62   54   39\n"
      ]
     },
     "execution_count": 25,
     "metadata": {},
     "output_type": "execute_result"
    }
   ],
   "source": [
    "# Vamb fra mit run\n",
    "\n",
    "ref = open(i -> Reference(i), \"/home/projects/ku_00197/data/ptracker/tmp/outdir_refs_ef/ref_spades_Airways.json\")\n",
    "final = \"/home/projects/ku_00197/people/lasdan/contig_cutoff/vamb_ptracker_done/test2/formatted_unsplit.tsv\"\n",
    "#bins = Binning(final, ref)\n",
    "bins = open(i -> Binning(i, ref), final)\n",
    "\n",
    "\n"
   ]
  },
  {
   "cell_type": "code",
   "execution_count": 83,
   "id": "fbeebe44",
   "metadata": {},
   "outputs": [
    {
     "data": {
      "text/plain": [
       "main (generic function with 2 methods)"
      ]
     },
     "execution_count": 83,
     "metadata": {},
     "output_type": "execute_result"
    }
   ],
   "source": [
    "using DataFrames\n",
    "using TidierData\n",
    "function main()\n",
    "    global df = DataFrame(nc_strains = Any[], vamb_run = Any[], contig_cutoff = Any[], location = Any[])\n",
    "    for sample in [\"Airways\", \"Oral\", \"Gastrointestinal\", \"Skin\", \"Urogenital\"]\n",
    "        ref = Reference(\"/home/projects/ku_00197/data/ptracker/tmp/outdir_refs_ef/ref_spades_$sample.json\")\n",
    "        for para in [500,1000, 1500, 2000]\n",
    "        #for para in [2000]\n",
    "            for i in 1:5\n",
    "                vamb_run = string(i)\n",
    "                #para = \"2000\"\n",
    "                path =  \"/home/people/lasdan/contig_cutoff/vamb_ptracker_done/$sample/para_$para/\"*vamb_run*\"_vamb/\"\n",
    "                cluster_path = path * \"vae_clusters_split.tsv\"\n",
    "                temppath = path * \"formatted_vae_cluster_split.tsv\"\n",
    "                final = path * \"formatted_clusters.tsv\"\n",
    "                \n",
    "                # format vamboutput correctly\n",
    "                command = `bash /home/people/lasdan/contig_cutoff/vamb_ptracker_done/format_vambout.sh $cluster_path $sample $final`\n",
    "                run(command)\n",
    "                \n",
    "                bins = Binning(final, ref)\n",
    "                #println(para,\": \", bins.recovered_genomes[2][1,1])\n",
    "                # Recall, precision. \n",
    "                println(para,\"---\",n_recovered(bins, 0.90, 0.95; level=0))\n",
    "                nc_strains = n_recovered(bins, 0.90, 0.95; level=0) \n",
    "                push!(df, [nc_strains, i, para, sample])\n",
    "            end\n",
    "        end\n",
    "    end\n",
    "    return df\n",
    "end"
   ]
  },
  {
   "cell_type": "code",
   "execution_count": 84,
   "id": "931b4f5f-2ce3-494f-8a97-58b80e6e6b71",
   "metadata": {},
   "outputs": [
    {
     "name": "stdout",
     "output_type": "stream",
     "text": [
      "500---67\n",
      "500---71\n",
      "500---61\n",
      "500---82\n",
      "500---77\n",
      "1000---104\n",
      "1000---103\n",
      "1000---101\n",
      "1000---98\n",
      "1000---101\n",
      "1500---116\n",
      "1500---99\n",
      "1500---116\n",
      "1500---115\n",
      "1500---110\n",
      "2000---104\n",
      "2000---104\n",
      "2000---100\n",
      "2000---104\n",
      "2000---103\n",
      "500---58\n",
      "500---57\n",
      "500---53\n",
      "500---52\n",
      "500---51\n",
      "1000---52\n",
      "1000---55\n",
      "1000---52\n",
      "1000---56\n",
      "1000---57\n",
      "1500---53\n",
      "1500---61\n",
      "1500---52\n",
      "1500---52\n",
      "1500---58\n",
      "2000---52\n",
      "2000---48\n",
      "2000---47\n",
      "2000---47\n",
      "2000---45\n",
      "500---109\n",
      "500---122\n",
      "500---124\n",
      "500---118\n",
      "500---114\n",
      "1000---112\n",
      "1000---89\n",
      "1000---93\n",
      "1000---95\n",
      "1000---90\n",
      "1500---93\n",
      "1500---93\n",
      "1500---90\n",
      "1500---92\n",
      "1500---89\n",
      "2000---89\n",
      "2000---84\n",
      "2000---84\n",
      "2000---87\n",
      "2000---88\n",
      "500---46\n",
      "500---40\n",
      "500---36\n",
      "500---39\n",
      "500---43\n",
      "1000---46\n",
      "1000---46\n",
      "1000---47\n",
      "1000---49\n",
      "1000---44\n",
      "1500---50\n",
      "1500---49\n",
      "1500---52\n",
      "1500---55\n",
      "1500---48\n",
      "2000---55\n",
      "2000---58\n",
      "2000---48\n",
      "2000---46\n",
      "2000---54\n",
      "500---45\n",
      "500---46\n",
      "500---43\n",
      "500---45\n",
      "500---44\n",
      "1000---45\n",
      "1000---49\n",
      "1000---47\n",
      "1000---50\n",
      "1000---41\n",
      "1500---51\n",
      "1500---47\n",
      "1500---49\n",
      "1500---47\n",
      "1500---45\n",
      "2000---50\n",
      "2000---44\n",
      "2000---47\n",
      "2000---43\n",
      "2000---49\n"
     ]
    },
    {
     "data": {
      "text/html": [
       "<div><div style = \"float: left;\"><span>100×4 DataFrame</span></div><div style = \"float: right;\"><span style = \"font-style: italic;\">75 rows omitted</span></div><div style = \"clear: both;\"></div></div><div class = \"data-frame\" style = \"overflow-x: scroll;\"><table class = \"data-frame\" style = \"margin-bottom: 6px;\"><thead><tr class = \"header\"><th class = \"rowNumber\" style = \"font-weight: bold; text-align: right;\">Row</th><th style = \"text-align: left;\">nc_strains</th><th style = \"text-align: left;\">vamb_run</th><th style = \"text-align: left;\">contig_cutoff</th><th style = \"text-align: left;\">location</th></tr><tr class = \"subheader headerLastRow\"><th class = \"rowNumber\" style = \"font-weight: bold; text-align: right;\"></th><th title = \"Any\" style = \"text-align: left;\">Any</th><th title = \"Any\" style = \"text-align: left;\">Any</th><th title = \"Any\" style = \"text-align: left;\">Any</th><th title = \"Any\" style = \"text-align: left;\">Any</th></tr></thead><tbody><tr><td class = \"rowNumber\" style = \"font-weight: bold; text-align: right;\">1</td><td style = \"text-align: left;\">67</td><td style = \"text-align: left;\">1</td><td style = \"text-align: left;\">500</td><td style = \"text-align: left;\">Airways</td></tr><tr><td class = \"rowNumber\" style = \"font-weight: bold; text-align: right;\">2</td><td style = \"text-align: left;\">71</td><td style = \"text-align: left;\">2</td><td style = \"text-align: left;\">500</td><td style = \"text-align: left;\">Airways</td></tr><tr><td class = \"rowNumber\" style = \"font-weight: bold; text-align: right;\">3</td><td style = \"text-align: left;\">61</td><td style = \"text-align: left;\">3</td><td style = \"text-align: left;\">500</td><td style = \"text-align: left;\">Airways</td></tr><tr><td class = \"rowNumber\" style = \"font-weight: bold; text-align: right;\">4</td><td style = \"text-align: left;\">82</td><td style = \"text-align: left;\">4</td><td style = \"text-align: left;\">500</td><td style = \"text-align: left;\">Airways</td></tr><tr><td class = \"rowNumber\" style = \"font-weight: bold; text-align: right;\">5</td><td style = \"text-align: left;\">77</td><td style = \"text-align: left;\">5</td><td style = \"text-align: left;\">500</td><td style = \"text-align: left;\">Airways</td></tr><tr><td class = \"rowNumber\" style = \"font-weight: bold; text-align: right;\">6</td><td style = \"text-align: left;\">104</td><td style = \"text-align: left;\">1</td><td style = \"text-align: left;\">1000</td><td style = \"text-align: left;\">Airways</td></tr><tr><td class = \"rowNumber\" style = \"font-weight: bold; text-align: right;\">7</td><td style = \"text-align: left;\">103</td><td style = \"text-align: left;\">2</td><td style = \"text-align: left;\">1000</td><td style = \"text-align: left;\">Airways</td></tr><tr><td class = \"rowNumber\" style = \"font-weight: bold; text-align: right;\">8</td><td style = \"text-align: left;\">101</td><td style = \"text-align: left;\">3</td><td style = \"text-align: left;\">1000</td><td style = \"text-align: left;\">Airways</td></tr><tr><td class = \"rowNumber\" style = \"font-weight: bold; text-align: right;\">9</td><td style = \"text-align: left;\">98</td><td style = \"text-align: left;\">4</td><td style = \"text-align: left;\">1000</td><td style = \"text-align: left;\">Airways</td></tr><tr><td class = \"rowNumber\" style = \"font-weight: bold; text-align: right;\">10</td><td style = \"text-align: left;\">101</td><td style = \"text-align: left;\">5</td><td style = \"text-align: left;\">1000</td><td style = \"text-align: left;\">Airways</td></tr><tr><td class = \"rowNumber\" style = \"font-weight: bold; text-align: right;\">11</td><td style = \"text-align: left;\">116</td><td style = \"text-align: left;\">1</td><td style = \"text-align: left;\">1500</td><td style = \"text-align: left;\">Airways</td></tr><tr><td class = \"rowNumber\" style = \"font-weight: bold; text-align: right;\">12</td><td style = \"text-align: left;\">99</td><td style = \"text-align: left;\">2</td><td style = \"text-align: left;\">1500</td><td style = \"text-align: left;\">Airways</td></tr><tr><td class = \"rowNumber\" style = \"font-weight: bold; text-align: right;\">13</td><td style = \"text-align: left;\">116</td><td style = \"text-align: left;\">3</td><td style = \"text-align: left;\">1500</td><td style = \"text-align: left;\">Airways</td></tr><tr><td style = \"text-align: right;\">&vellip;</td><td style = \"text-align: right;\">&vellip;</td><td style = \"text-align: right;\">&vellip;</td><td style = \"text-align: right;\">&vellip;</td><td style = \"text-align: right;\">&vellip;</td></tr><tr><td class = \"rowNumber\" style = \"font-weight: bold; text-align: right;\">89</td><td style = \"text-align: left;\">50</td><td style = \"text-align: left;\">4</td><td style = \"text-align: left;\">1000</td><td style = \"text-align: left;\">Urogenital</td></tr><tr><td class = \"rowNumber\" style = \"font-weight: bold; text-align: right;\">90</td><td style = \"text-align: left;\">41</td><td style = \"text-align: left;\">5</td><td style = \"text-align: left;\">1000</td><td style = \"text-align: left;\">Urogenital</td></tr><tr><td class = \"rowNumber\" style = \"font-weight: bold; text-align: right;\">91</td><td style = \"text-align: left;\">51</td><td style = \"text-align: left;\">1</td><td style = \"text-align: left;\">1500</td><td style = \"text-align: left;\">Urogenital</td></tr><tr><td class = \"rowNumber\" style = \"font-weight: bold; text-align: right;\">92</td><td style = \"text-align: left;\">47</td><td style = \"text-align: left;\">2</td><td style = \"text-align: left;\">1500</td><td style = \"text-align: left;\">Urogenital</td></tr><tr><td class = \"rowNumber\" style = \"font-weight: bold; text-align: right;\">93</td><td style = \"text-align: left;\">49</td><td style = \"text-align: left;\">3</td><td style = \"text-align: left;\">1500</td><td style = \"text-align: left;\">Urogenital</td></tr><tr><td class = \"rowNumber\" style = \"font-weight: bold; text-align: right;\">94</td><td style = \"text-align: left;\">47</td><td style = \"text-align: left;\">4</td><td style = \"text-align: left;\">1500</td><td style = \"text-align: left;\">Urogenital</td></tr><tr><td class = \"rowNumber\" style = \"font-weight: bold; text-align: right;\">95</td><td style = \"text-align: left;\">45</td><td style = \"text-align: left;\">5</td><td style = \"text-align: left;\">1500</td><td style = \"text-align: left;\">Urogenital</td></tr><tr><td class = \"rowNumber\" style = \"font-weight: bold; text-align: right;\">96</td><td style = \"text-align: left;\">50</td><td style = \"text-align: left;\">1</td><td style = \"text-align: left;\">2000</td><td style = \"text-align: left;\">Urogenital</td></tr><tr><td class = \"rowNumber\" style = \"font-weight: bold; text-align: right;\">97</td><td style = \"text-align: left;\">44</td><td style = \"text-align: left;\">2</td><td style = \"text-align: left;\">2000</td><td style = \"text-align: left;\">Urogenital</td></tr><tr><td class = \"rowNumber\" style = \"font-weight: bold; text-align: right;\">98</td><td style = \"text-align: left;\">47</td><td style = \"text-align: left;\">3</td><td style = \"text-align: left;\">2000</td><td style = \"text-align: left;\">Urogenital</td></tr><tr><td class = \"rowNumber\" style = \"font-weight: bold; text-align: right;\">99</td><td style = \"text-align: left;\">43</td><td style = \"text-align: left;\">4</td><td style = \"text-align: left;\">2000</td><td style = \"text-align: left;\">Urogenital</td></tr><tr><td class = \"rowNumber\" style = \"font-weight: bold; text-align: right;\">100</td><td style = \"text-align: left;\">49</td><td style = \"text-align: left;\">5</td><td style = \"text-align: left;\">2000</td><td style = \"text-align: left;\">Urogenital</td></tr></tbody></table></div>"
      ],
      "text/latex": [
       "\\begin{tabular}{r|cccc}\n",
       "\t& nc\\_strains & vamb\\_run & contig\\_cutoff & location\\\\\n",
       "\t\\hline\n",
       "\t& Any & Any & Any & Any\\\\\n",
       "\t\\hline\n",
       "\t1 & 67 & 1 & 500 & Airways \\\\\n",
       "\t2 & 71 & 2 & 500 & Airways \\\\\n",
       "\t3 & 61 & 3 & 500 & Airways \\\\\n",
       "\t4 & 82 & 4 & 500 & Airways \\\\\n",
       "\t5 & 77 & 5 & 500 & Airways \\\\\n",
       "\t6 & 104 & 1 & 1000 & Airways \\\\\n",
       "\t7 & 103 & 2 & 1000 & Airways \\\\\n",
       "\t8 & 101 & 3 & 1000 & Airways \\\\\n",
       "\t9 & 98 & 4 & 1000 & Airways \\\\\n",
       "\t10 & 101 & 5 & 1000 & Airways \\\\\n",
       "\t11 & 116 & 1 & 1500 & Airways \\\\\n",
       "\t12 & 99 & 2 & 1500 & Airways \\\\\n",
       "\t13 & 116 & 3 & 1500 & Airways \\\\\n",
       "\t14 & 115 & 4 & 1500 & Airways \\\\\n",
       "\t15 & 110 & 5 & 1500 & Airways \\\\\n",
       "\t16 & 104 & 1 & 2000 & Airways \\\\\n",
       "\t17 & 104 & 2 & 2000 & Airways \\\\\n",
       "\t18 & 100 & 3 & 2000 & Airways \\\\\n",
       "\t19 & 104 & 4 & 2000 & Airways \\\\\n",
       "\t20 & 103 & 5 & 2000 & Airways \\\\\n",
       "\t21 & 58 & 1 & 500 & Oral \\\\\n",
       "\t22 & 57 & 2 & 500 & Oral \\\\\n",
       "\t23 & 53 & 3 & 500 & Oral \\\\\n",
       "\t24 & 52 & 4 & 500 & Oral \\\\\n",
       "\t25 & 51 & 5 & 500 & Oral \\\\\n",
       "\t26 & 52 & 1 & 1000 & Oral \\\\\n",
       "\t27 & 55 & 2 & 1000 & Oral \\\\\n",
       "\t28 & 52 & 3 & 1000 & Oral \\\\\n",
       "\t29 & 56 & 4 & 1000 & Oral \\\\\n",
       "\t30 & 57 & 5 & 1000 & Oral \\\\\n",
       "\t$\\dots$ & $\\dots$ & $\\dots$ & $\\dots$ & $\\dots$ \\\\\n",
       "\\end{tabular}\n"
      ],
      "text/plain": [
       "\u001b[1m100×4 DataFrame\u001b[0m\n",
       "\u001b[1m Row \u001b[0m│\u001b[1m nc_strains \u001b[0m\u001b[1m vamb_run \u001b[0m\u001b[1m contig_cutoff \u001b[0m\u001b[1m location   \u001b[0m\n",
       "     │\u001b[90m Any        \u001b[0m\u001b[90m Any      \u001b[0m\u001b[90m Any           \u001b[0m\u001b[90m Any        \u001b[0m\n",
       "─────┼─────────────────────────────────────────────────\n",
       "   1 │ 67          1         500            Airways\n",
       "   2 │ 71          2         500            Airways\n",
       "   3 │ 61          3         500            Airways\n",
       "   4 │ 82          4         500            Airways\n",
       "   5 │ 77          5         500            Airways\n",
       "   6 │ 104         1         1000           Airways\n",
       "   7 │ 103         2         1000           Airways\n",
       "   8 │ 101         3         1000           Airways\n",
       "   9 │ 98          4         1000           Airways\n",
       "  10 │ 101         5         1000           Airways\n",
       "  11 │ 116         1         1500           Airways\n",
       "  ⋮  │     ⋮          ⋮            ⋮            ⋮\n",
       "  91 │ 51          1         1500           Urogenital\n",
       "  92 │ 47          2         1500           Urogenital\n",
       "  93 │ 49          3         1500           Urogenital\n",
       "  94 │ 47          4         1500           Urogenital\n",
       "  95 │ 45          5         1500           Urogenital\n",
       "  96 │ 50          1         2000           Urogenital\n",
       "  97 │ 44          2         2000           Urogenital\n",
       "  98 │ 47          3         2000           Urogenital\n",
       "  99 │ 43          4         2000           Urogenital\n",
       " 100 │ 49          5         2000           Urogenital\n",
       "\u001b[36m                                        79 rows omitted\u001b[0m"
      ]
     },
     "execution_count": 84,
     "metadata": {},
     "output_type": "execute_result"
    }
   ],
   "source": [
    "df1 = main()"
   ]
  },
  {
   "cell_type": "code",
   "execution_count": 80,
   "id": "5daa9d08-0625-4ef4-b198-6181bc9931a9",
   "metadata": {},
   "outputs": [
    {
     "name": "stdout",
     "output_type": "stream",
     "text": [
      "500---58\n",
      "500---75\n",
      "500---75\n",
      "500---78\n",
      "500---73\n",
      "1000---93\n",
      "1000---107\n",
      "1000---85\n",
      "1000---96\n",
      "1000---97\n",
      "1500---103\n",
      "1500---107\n",
      "1500---110\n",
      "1500---113\n",
      "1500---101\n",
      "2000---112\n",
      "2000---108\n",
      "2000---105\n",
      "2000---103\n",
      "2000---110\n",
      "500---55\n",
      "500---55\n",
      "500---59\n",
      "500---58\n",
      "500---56\n",
      "1000---53\n",
      "1000---66\n",
      "1000---60\n",
      "1000---51\n",
      "1000---53\n",
      "1500---51\n",
      "1500---50\n",
      "1500---54\n",
      "1500---47\n",
      "1500---55\n",
      "2000---47\n",
      "2000---48\n",
      "2000---47\n",
      "2000---55\n",
      "2000---53\n",
      "500---105\n",
      "500---122\n",
      "500---120\n",
      "500---110\n",
      "500---112\n",
      "1000---89\n",
      "1000---91\n",
      "1000---96\n",
      "1000---124\n",
      "1000---92\n",
      "1500---96\n",
      "1500---91\n",
      "1500---91\n",
      "1500---91\n",
      "1500---97\n",
      "2000---90\n",
      "2000---89\n",
      "2000---90\n",
      "2000---89\n",
      "2000---86\n",
      "500---38\n",
      "500---44\n",
      "500---38\n",
      "500---38\n",
      "500---39\n",
      "1000---49\n",
      "1000---51\n",
      "1000---48\n",
      "1000---49\n",
      "1000---51\n",
      "1500---46\n",
      "1500---51\n",
      "1500---62\n",
      "1500---52\n",
      "1500---49\n",
      "2000---55\n",
      "2000---56\n",
      "2000---57\n",
      "2000---55\n",
      "2000---51\n",
      "500---40\n",
      "500---42\n",
      "500---43\n",
      "500---37\n",
      "500---41\n",
      "1000---43\n",
      "1000---48\n",
      "1000---49\n",
      "1000---50\n",
      "1000---49\n",
      "1500---49\n",
      "1500---51\n",
      "1500---48\n",
      "1500---47\n",
      "1500---54\n",
      "2000---52\n",
      "2000---45\n",
      "2000---50\n",
      "2000---48\n",
      "2000---46\n"
     ]
    },
    {
     "data": {
      "text/html": [
       "<div><div style = \"float: left;\"><span>100×4 DataFrame</span></div><div style = \"float: right;\"><span style = \"font-style: italic;\">75 rows omitted</span></div><div style = \"clear: both;\"></div></div><div class = \"data-frame\" style = \"overflow-x: scroll;\"><table class = \"data-frame\" style = \"margin-bottom: 6px;\"><thead><tr class = \"header\"><th class = \"rowNumber\" style = \"font-weight: bold; text-align: right;\">Row</th><th style = \"text-align: left;\">nc_strains</th><th style = \"text-align: left;\">vamb_run</th><th style = \"text-align: left;\">contig_cutoff</th><th style = \"text-align: left;\">location</th></tr><tr class = \"subheader headerLastRow\"><th class = \"rowNumber\" style = \"font-weight: bold; text-align: right;\"></th><th title = \"Any\" style = \"text-align: left;\">Any</th><th title = \"Any\" style = \"text-align: left;\">Any</th><th title = \"Any\" style = \"text-align: left;\">Any</th><th title = \"Any\" style = \"text-align: left;\">Any</th></tr></thead><tbody><tr><td class = \"rowNumber\" style = \"font-weight: bold; text-align: right;\">1</td><td style = \"text-align: left;\">58</td><td style = \"text-align: left;\">1</td><td style = \"text-align: left;\">500</td><td style = \"text-align: left;\">Airways</td></tr><tr><td class = \"rowNumber\" style = \"font-weight: bold; text-align: right;\">2</td><td style = \"text-align: left;\">75</td><td style = \"text-align: left;\">2</td><td style = \"text-align: left;\">500</td><td style = \"text-align: left;\">Airways</td></tr><tr><td class = \"rowNumber\" style = \"font-weight: bold; text-align: right;\">3</td><td style = \"text-align: left;\">75</td><td style = \"text-align: left;\">3</td><td style = \"text-align: left;\">500</td><td style = \"text-align: left;\">Airways</td></tr><tr><td class = \"rowNumber\" style = \"font-weight: bold; text-align: right;\">4</td><td style = \"text-align: left;\">78</td><td style = \"text-align: left;\">4</td><td style = \"text-align: left;\">500</td><td style = \"text-align: left;\">Airways</td></tr><tr><td class = \"rowNumber\" style = \"font-weight: bold; text-align: right;\">5</td><td style = \"text-align: left;\">73</td><td style = \"text-align: left;\">5</td><td style = \"text-align: left;\">500</td><td style = \"text-align: left;\">Airways</td></tr><tr><td class = \"rowNumber\" style = \"font-weight: bold; text-align: right;\">6</td><td style = \"text-align: left;\">93</td><td style = \"text-align: left;\">1</td><td style = \"text-align: left;\">1000</td><td style = \"text-align: left;\">Airways</td></tr><tr><td class = \"rowNumber\" style = \"font-weight: bold; text-align: right;\">7</td><td style = \"text-align: left;\">107</td><td style = \"text-align: left;\">2</td><td style = \"text-align: left;\">1000</td><td style = \"text-align: left;\">Airways</td></tr><tr><td class = \"rowNumber\" style = \"font-weight: bold; text-align: right;\">8</td><td style = \"text-align: left;\">85</td><td style = \"text-align: left;\">3</td><td style = \"text-align: left;\">1000</td><td style = \"text-align: left;\">Airways</td></tr><tr><td class = \"rowNumber\" style = \"font-weight: bold; text-align: right;\">9</td><td style = \"text-align: left;\">96</td><td style = \"text-align: left;\">4</td><td style = \"text-align: left;\">1000</td><td style = \"text-align: left;\">Airways</td></tr><tr><td class = \"rowNumber\" style = \"font-weight: bold; text-align: right;\">10</td><td style = \"text-align: left;\">97</td><td style = \"text-align: left;\">5</td><td style = \"text-align: left;\">1000</td><td style = \"text-align: left;\">Airways</td></tr><tr><td class = \"rowNumber\" style = \"font-weight: bold; text-align: right;\">11</td><td style = \"text-align: left;\">103</td><td style = \"text-align: left;\">1</td><td style = \"text-align: left;\">1500</td><td style = \"text-align: left;\">Airways</td></tr><tr><td class = \"rowNumber\" style = \"font-weight: bold; text-align: right;\">12</td><td style = \"text-align: left;\">107</td><td style = \"text-align: left;\">2</td><td style = \"text-align: left;\">1500</td><td style = \"text-align: left;\">Airways</td></tr><tr><td class = \"rowNumber\" style = \"font-weight: bold; text-align: right;\">13</td><td style = \"text-align: left;\">110</td><td style = \"text-align: left;\">3</td><td style = \"text-align: left;\">1500</td><td style = \"text-align: left;\">Airways</td></tr><tr><td style = \"text-align: right;\">&vellip;</td><td style = \"text-align: right;\">&vellip;</td><td style = \"text-align: right;\">&vellip;</td><td style = \"text-align: right;\">&vellip;</td><td style = \"text-align: right;\">&vellip;</td></tr><tr><td class = \"rowNumber\" style = \"font-weight: bold; text-align: right;\">89</td><td style = \"text-align: left;\">50</td><td style = \"text-align: left;\">4</td><td style = \"text-align: left;\">1000</td><td style = \"text-align: left;\">Urogenital</td></tr><tr><td class = \"rowNumber\" style = \"font-weight: bold; text-align: right;\">90</td><td style = \"text-align: left;\">49</td><td style = \"text-align: left;\">5</td><td style = \"text-align: left;\">1000</td><td style = \"text-align: left;\">Urogenital</td></tr><tr><td class = \"rowNumber\" style = \"font-weight: bold; text-align: right;\">91</td><td style = \"text-align: left;\">49</td><td style = \"text-align: left;\">1</td><td style = \"text-align: left;\">1500</td><td style = \"text-align: left;\">Urogenital</td></tr><tr><td class = \"rowNumber\" style = \"font-weight: bold; text-align: right;\">92</td><td style = \"text-align: left;\">51</td><td style = \"text-align: left;\">2</td><td style = \"text-align: left;\">1500</td><td style = \"text-align: left;\">Urogenital</td></tr><tr><td class = \"rowNumber\" style = \"font-weight: bold; text-align: right;\">93</td><td style = \"text-align: left;\">48</td><td style = \"text-align: left;\">3</td><td style = \"text-align: left;\">1500</td><td style = \"text-align: left;\">Urogenital</td></tr><tr><td class = \"rowNumber\" style = \"font-weight: bold; text-align: right;\">94</td><td style = \"text-align: left;\">47</td><td style = \"text-align: left;\">4</td><td style = \"text-align: left;\">1500</td><td style = \"text-align: left;\">Urogenital</td></tr><tr><td class = \"rowNumber\" style = \"font-weight: bold; text-align: right;\">95</td><td style = \"text-align: left;\">54</td><td style = \"text-align: left;\">5</td><td style = \"text-align: left;\">1500</td><td style = \"text-align: left;\">Urogenital</td></tr><tr><td class = \"rowNumber\" style = \"font-weight: bold; text-align: right;\">96</td><td style = \"text-align: left;\">52</td><td style = \"text-align: left;\">1</td><td style = \"text-align: left;\">2000</td><td style = \"text-align: left;\">Urogenital</td></tr><tr><td class = \"rowNumber\" style = \"font-weight: bold; text-align: right;\">97</td><td style = \"text-align: left;\">45</td><td style = \"text-align: left;\">2</td><td style = \"text-align: left;\">2000</td><td style = \"text-align: left;\">Urogenital</td></tr><tr><td class = \"rowNumber\" style = \"font-weight: bold; text-align: right;\">98</td><td style = \"text-align: left;\">50</td><td style = \"text-align: left;\">3</td><td style = \"text-align: left;\">2000</td><td style = \"text-align: left;\">Urogenital</td></tr><tr><td class = \"rowNumber\" style = \"font-weight: bold; text-align: right;\">99</td><td style = \"text-align: left;\">48</td><td style = \"text-align: left;\">4</td><td style = \"text-align: left;\">2000</td><td style = \"text-align: left;\">Urogenital</td></tr><tr><td class = \"rowNumber\" style = \"font-weight: bold; text-align: right;\">100</td><td style = \"text-align: left;\">46</td><td style = \"text-align: left;\">5</td><td style = \"text-align: left;\">2000</td><td style = \"text-align: left;\">Urogenital</td></tr></tbody></table></div>"
      ],
      "text/latex": [
       "\\begin{tabular}{r|cccc}\n",
       "\t& nc\\_strains & vamb\\_run & contig\\_cutoff & location\\\\\n",
       "\t\\hline\n",
       "\t& Any & Any & Any & Any\\\\\n",
       "\t\\hline\n",
       "\t1 & 58 & 1 & 500 & Airways \\\\\n",
       "\t2 & 75 & 2 & 500 & Airways \\\\\n",
       "\t3 & 75 & 3 & 500 & Airways \\\\\n",
       "\t4 & 78 & 4 & 500 & Airways \\\\\n",
       "\t5 & 73 & 5 & 500 & Airways \\\\\n",
       "\t6 & 93 & 1 & 1000 & Airways \\\\\n",
       "\t7 & 107 & 2 & 1000 & Airways \\\\\n",
       "\t8 & 85 & 3 & 1000 & Airways \\\\\n",
       "\t9 & 96 & 4 & 1000 & Airways \\\\\n",
       "\t10 & 97 & 5 & 1000 & Airways \\\\\n",
       "\t11 & 103 & 1 & 1500 & Airways \\\\\n",
       "\t12 & 107 & 2 & 1500 & Airways \\\\\n",
       "\t13 & 110 & 3 & 1500 & Airways \\\\\n",
       "\t14 & 113 & 4 & 1500 & Airways \\\\\n",
       "\t15 & 101 & 5 & 1500 & Airways \\\\\n",
       "\t16 & 112 & 1 & 2000 & Airways \\\\\n",
       "\t17 & 108 & 2 & 2000 & Airways \\\\\n",
       "\t18 & 105 & 3 & 2000 & Airways \\\\\n",
       "\t19 & 103 & 4 & 2000 & Airways \\\\\n",
       "\t20 & 110 & 5 & 2000 & Airways \\\\\n",
       "\t21 & 55 & 1 & 500 & Oral \\\\\n",
       "\t22 & 55 & 2 & 500 & Oral \\\\\n",
       "\t23 & 59 & 3 & 500 & Oral \\\\\n",
       "\t24 & 58 & 4 & 500 & Oral \\\\\n",
       "\t25 & 56 & 5 & 500 & Oral \\\\\n",
       "\t26 & 53 & 1 & 1000 & Oral \\\\\n",
       "\t27 & 66 & 2 & 1000 & Oral \\\\\n",
       "\t28 & 60 & 3 & 1000 & Oral \\\\\n",
       "\t29 & 51 & 4 & 1000 & Oral \\\\\n",
       "\t30 & 53 & 5 & 1000 & Oral \\\\\n",
       "\t$\\dots$ & $\\dots$ & $\\dots$ & $\\dots$ & $\\dots$ \\\\\n",
       "\\end{tabular}\n"
      ],
      "text/plain": [
       "\u001b[1m100×4 DataFrame\u001b[0m\n",
       "\u001b[1m Row \u001b[0m│\u001b[1m nc_strains \u001b[0m\u001b[1m vamb_run \u001b[0m\u001b[1m contig_cutoff \u001b[0m\u001b[1m location   \u001b[0m\n",
       "     │\u001b[90m Any        \u001b[0m\u001b[90m Any      \u001b[0m\u001b[90m Any           \u001b[0m\u001b[90m Any        \u001b[0m\n",
       "─────┼─────────────────────────────────────────────────\n",
       "   1 │ 58          1         500            Airways\n",
       "   2 │ 75          2         500            Airways\n",
       "   3 │ 75          3         500            Airways\n",
       "   4 │ 78          4         500            Airways\n",
       "   5 │ 73          5         500            Airways\n",
       "   6 │ 93          1         1000           Airways\n",
       "   7 │ 107         2         1000           Airways\n",
       "   8 │ 85          3         1000           Airways\n",
       "   9 │ 96          4         1000           Airways\n",
       "  10 │ 97          5         1000           Airways\n",
       "  11 │ 103         1         1500           Airways\n",
       "  ⋮  │     ⋮          ⋮            ⋮            ⋮\n",
       "  91 │ 49          1         1500           Urogenital\n",
       "  92 │ 51          2         1500           Urogenital\n",
       "  93 │ 48          3         1500           Urogenital\n",
       "  94 │ 47          4         1500           Urogenital\n",
       "  95 │ 54          5         1500           Urogenital\n",
       "  96 │ 52          1         2000           Urogenital\n",
       "  97 │ 45          2         2000           Urogenital\n",
       "  98 │ 50          3         2000           Urogenital\n",
       "  99 │ 48          4         2000           Urogenital\n",
       " 100 │ 46          5         2000           Urogenital\n",
       "\u001b[36m                                        79 rows omitted\u001b[0m"
      ]
     },
     "execution_count": 80,
     "metadata": {},
     "output_type": "execute_result"
    }
   ],
   "source": [
    "\n",
    "using DataFrames\n",
    "using TidierData\n",
    "function main2()\n",
    "    global df = DataFrame(nc_strains = Any[], vamb_run = Any[], contig_cutoff = Any[], location = Any[])\n",
    "    for sample in [\"Airways\", \"Oral\", \"Gastrointestinal\", \"Skin\", \"Urogenital\"]\n",
    "        ref = Reference(\"/home/projects/ku_00197/data/ptracker/tmp/outdir_refs_ef/ref_spades_$sample.json\")\n",
    "        for para in [500,1000, 1500, 2000]\n",
    "        #for para in [2000]\n",
    "            for i in 1:5\n",
    "                vamb_run = string(i)\n",
    "                path =  \"/home/people/lasdan/contig_cutoff/error_free_vamb_cutoff/$sample/cutoff_$para/\"*vamb_run*\"_vamb/\"\n",
    "                #path =  \"/home/people/lasdan/contig_cutoff/vamb_ptracker_done/$sample/para_$para/\"*vamb_run*\"_vamb/\"\n",
    "                cluster_path = path * \"vae_clusters_split.tsv\"\n",
    "                temppath = path * \"formatted_vae_cluster_split.tsv\"\n",
    "                final = path * \"formatted_clusters.tsv\"\n",
    "                \n",
    "                # format vamboutput correctly\n",
    "                command = `bash /home/people/lasdan/contig_cutoff/vamb_ptracker_done/format_vambout.sh $cluster_path $sample $final`\n",
    "                run(command)\n",
    "                \n",
    "                bins = Binning(final, ref)\n",
    "                #println(para,\": \", bins.recovered_genomes[2][1,1])\n",
    "                # Recall, precision. \n",
    "                println(para,\"---\",n_recovered(bins, 0.90, 0.95; level=0))\n",
    "                nc_strains = n_recovered(bins, 0.90, 0.95; level=0) \n",
    "                push!(df, [nc_strains, i, para, sample])\n",
    "            end\n",
    "        end\n",
    "    end\n",
    "    return df\n",
    "end\n",
    "df2 = main2()"
   ]
  },
  {
   "cell_type": "code",
   "execution_count": 85,
   "id": "991838d4-12da-4124-a19d-1ea92bd1ff39",
   "metadata": {},
   "outputs": [
    {
     "data": {
      "text/plain": [
       "\"nc_strains_results2\""
      ]
     },
     "execution_count": 85,
     "metadata": {},
     "output_type": "execute_result"
    }
   ],
   "source": [
    "using CSV\n",
    "CSV.write(\"nc_strains_results1\", df)\n",
    "CSV.write(\"nc_strains_results2\", df2)"
   ]
  },
  {
   "cell_type": "code",
   "execution_count": 82,
   "id": "07a889d1-063d-4192-a1f0-7cc9c0de6f32",
   "metadata": {},
   "outputs": [
    {
     "data": {
      "text/html": [
       "<div><div style = \"float: left;\"><span>100×4 DataFrame</span></div><div style = \"float: right;\"><span style = \"font-style: italic;\">75 rows omitted</span></div><div style = \"clear: both;\"></div></div><div class = \"data-frame\" style = \"overflow-x: scroll;\"><table class = \"data-frame\" style = \"margin-bottom: 6px;\"><thead><tr class = \"header\"><th class = \"rowNumber\" style = \"font-weight: bold; text-align: right;\">Row</th><th style = \"text-align: left;\">nc_strains</th><th style = \"text-align: left;\">vamb_run</th><th style = \"text-align: left;\">contig_cutoff</th><th style = \"text-align: left;\">location</th></tr><tr class = \"subheader headerLastRow\"><th class = \"rowNumber\" style = \"font-weight: bold; text-align: right;\"></th><th title = \"Any\" style = \"text-align: left;\">Any</th><th title = \"Any\" style = \"text-align: left;\">Any</th><th title = \"Any\" style = \"text-align: left;\">Any</th><th title = \"Any\" style = \"text-align: left;\">Any</th></tr></thead><tbody><tr><td class = \"rowNumber\" style = \"font-weight: bold; text-align: right;\">1</td><td style = \"text-align: left;\">58</td><td style = \"text-align: left;\">1</td><td style = \"text-align: left;\">500</td><td style = \"text-align: left;\">Airways</td></tr><tr><td class = \"rowNumber\" style = \"font-weight: bold; text-align: right;\">2</td><td style = \"text-align: left;\">75</td><td style = \"text-align: left;\">2</td><td style = \"text-align: left;\">500</td><td style = \"text-align: left;\">Airways</td></tr><tr><td class = \"rowNumber\" style = \"font-weight: bold; text-align: right;\">3</td><td style = \"text-align: left;\">75</td><td style = \"text-align: left;\">3</td><td style = \"text-align: left;\">500</td><td style = \"text-align: left;\">Airways</td></tr><tr><td class = \"rowNumber\" style = \"font-weight: bold; text-align: right;\">4</td><td style = \"text-align: left;\">78</td><td style = \"text-align: left;\">4</td><td style = \"text-align: left;\">500</td><td style = \"text-align: left;\">Airways</td></tr><tr><td class = \"rowNumber\" style = \"font-weight: bold; text-align: right;\">5</td><td style = \"text-align: left;\">73</td><td style = \"text-align: left;\">5</td><td style = \"text-align: left;\">500</td><td style = \"text-align: left;\">Airways</td></tr><tr><td class = \"rowNumber\" style = \"font-weight: bold; text-align: right;\">6</td><td style = \"text-align: left;\">93</td><td style = \"text-align: left;\">1</td><td style = \"text-align: left;\">1000</td><td style = \"text-align: left;\">Airways</td></tr><tr><td class = \"rowNumber\" style = \"font-weight: bold; text-align: right;\">7</td><td style = \"text-align: left;\">107</td><td style = \"text-align: left;\">2</td><td style = \"text-align: left;\">1000</td><td style = \"text-align: left;\">Airways</td></tr><tr><td class = \"rowNumber\" style = \"font-weight: bold; text-align: right;\">8</td><td style = \"text-align: left;\">85</td><td style = \"text-align: left;\">3</td><td style = \"text-align: left;\">1000</td><td style = \"text-align: left;\">Airways</td></tr><tr><td class = \"rowNumber\" style = \"font-weight: bold; text-align: right;\">9</td><td style = \"text-align: left;\">96</td><td style = \"text-align: left;\">4</td><td style = \"text-align: left;\">1000</td><td style = \"text-align: left;\">Airways</td></tr><tr><td class = \"rowNumber\" style = \"font-weight: bold; text-align: right;\">10</td><td style = \"text-align: left;\">97</td><td style = \"text-align: left;\">5</td><td style = \"text-align: left;\">1000</td><td style = \"text-align: left;\">Airways</td></tr><tr><td class = \"rowNumber\" style = \"font-weight: bold; text-align: right;\">11</td><td style = \"text-align: left;\">103</td><td style = \"text-align: left;\">1</td><td style = \"text-align: left;\">1500</td><td style = \"text-align: left;\">Airways</td></tr><tr><td class = \"rowNumber\" style = \"font-weight: bold; text-align: right;\">12</td><td style = \"text-align: left;\">107</td><td style = \"text-align: left;\">2</td><td style = \"text-align: left;\">1500</td><td style = \"text-align: left;\">Airways</td></tr><tr><td class = \"rowNumber\" style = \"font-weight: bold; text-align: right;\">13</td><td style = \"text-align: left;\">110</td><td style = \"text-align: left;\">3</td><td style = \"text-align: left;\">1500</td><td style = \"text-align: left;\">Airways</td></tr><tr><td style = \"text-align: right;\">&vellip;</td><td style = \"text-align: right;\">&vellip;</td><td style = \"text-align: right;\">&vellip;</td><td style = \"text-align: right;\">&vellip;</td><td style = \"text-align: right;\">&vellip;</td></tr><tr><td class = \"rowNumber\" style = \"font-weight: bold; text-align: right;\">89</td><td style = \"text-align: left;\">50</td><td style = \"text-align: left;\">4</td><td style = \"text-align: left;\">1000</td><td style = \"text-align: left;\">Urogenital</td></tr><tr><td class = \"rowNumber\" style = \"font-weight: bold; text-align: right;\">90</td><td style = \"text-align: left;\">49</td><td style = \"text-align: left;\">5</td><td style = \"text-align: left;\">1000</td><td style = \"text-align: left;\">Urogenital</td></tr><tr><td class = \"rowNumber\" style = \"font-weight: bold; text-align: right;\">91</td><td style = \"text-align: left;\">49</td><td style = \"text-align: left;\">1</td><td style = \"text-align: left;\">1500</td><td style = \"text-align: left;\">Urogenital</td></tr><tr><td class = \"rowNumber\" style = \"font-weight: bold; text-align: right;\">92</td><td style = \"text-align: left;\">51</td><td style = \"text-align: left;\">2</td><td style = \"text-align: left;\">1500</td><td style = \"text-align: left;\">Urogenital</td></tr><tr><td class = \"rowNumber\" style = \"font-weight: bold; text-align: right;\">93</td><td style = \"text-align: left;\">48</td><td style = \"text-align: left;\">3</td><td style = \"text-align: left;\">1500</td><td style = \"text-align: left;\">Urogenital</td></tr><tr><td class = \"rowNumber\" style = \"font-weight: bold; text-align: right;\">94</td><td style = \"text-align: left;\">47</td><td style = \"text-align: left;\">4</td><td style = \"text-align: left;\">1500</td><td style = \"text-align: left;\">Urogenital</td></tr><tr><td class = \"rowNumber\" style = \"font-weight: bold; text-align: right;\">95</td><td style = \"text-align: left;\">54</td><td style = \"text-align: left;\">5</td><td style = \"text-align: left;\">1500</td><td style = \"text-align: left;\">Urogenital</td></tr><tr><td class = \"rowNumber\" style = \"font-weight: bold; text-align: right;\">96</td><td style = \"text-align: left;\">52</td><td style = \"text-align: left;\">1</td><td style = \"text-align: left;\">2000</td><td style = \"text-align: left;\">Urogenital</td></tr><tr><td class = \"rowNumber\" style = \"font-weight: bold; text-align: right;\">97</td><td style = \"text-align: left;\">45</td><td style = \"text-align: left;\">2</td><td style = \"text-align: left;\">2000</td><td style = \"text-align: left;\">Urogenital</td></tr><tr><td class = \"rowNumber\" style = \"font-weight: bold; text-align: right;\">98</td><td style = \"text-align: left;\">50</td><td style = \"text-align: left;\">3</td><td style = \"text-align: left;\">2000</td><td style = \"text-align: left;\">Urogenital</td></tr><tr><td class = \"rowNumber\" style = \"font-weight: bold; text-align: right;\">99</td><td style = \"text-align: left;\">48</td><td style = \"text-align: left;\">4</td><td style = \"text-align: left;\">2000</td><td style = \"text-align: left;\">Urogenital</td></tr><tr><td class = \"rowNumber\" style = \"font-weight: bold; text-align: right;\">100</td><td style = \"text-align: left;\">46</td><td style = \"text-align: left;\">5</td><td style = \"text-align: left;\">2000</td><td style = \"text-align: left;\">Urogenital</td></tr></tbody></table></div>"
      ],
      "text/latex": [
       "\\begin{tabular}{r|cccc}\n",
       "\t& nc\\_strains & vamb\\_run & contig\\_cutoff & location\\\\\n",
       "\t\\hline\n",
       "\t& Any & Any & Any & Any\\\\\n",
       "\t\\hline\n",
       "\t1 & 58 & 1 & 500 & Airways \\\\\n",
       "\t2 & 75 & 2 & 500 & Airways \\\\\n",
       "\t3 & 75 & 3 & 500 & Airways \\\\\n",
       "\t4 & 78 & 4 & 500 & Airways \\\\\n",
       "\t5 & 73 & 5 & 500 & Airways \\\\\n",
       "\t6 & 93 & 1 & 1000 & Airways \\\\\n",
       "\t7 & 107 & 2 & 1000 & Airways \\\\\n",
       "\t8 & 85 & 3 & 1000 & Airways \\\\\n",
       "\t9 & 96 & 4 & 1000 & Airways \\\\\n",
       "\t10 & 97 & 5 & 1000 & Airways \\\\\n",
       "\t11 & 103 & 1 & 1500 & Airways \\\\\n",
       "\t12 & 107 & 2 & 1500 & Airways \\\\\n",
       "\t13 & 110 & 3 & 1500 & Airways \\\\\n",
       "\t14 & 113 & 4 & 1500 & Airways \\\\\n",
       "\t15 & 101 & 5 & 1500 & Airways \\\\\n",
       "\t16 & 112 & 1 & 2000 & Airways \\\\\n",
       "\t17 & 108 & 2 & 2000 & Airways \\\\\n",
       "\t18 & 105 & 3 & 2000 & Airways \\\\\n",
       "\t19 & 103 & 4 & 2000 & Airways \\\\\n",
       "\t20 & 110 & 5 & 2000 & Airways \\\\\n",
       "\t21 & 55 & 1 & 500 & Oral \\\\\n",
       "\t22 & 55 & 2 & 500 & Oral \\\\\n",
       "\t23 & 59 & 3 & 500 & Oral \\\\\n",
       "\t24 & 58 & 4 & 500 & Oral \\\\\n",
       "\t25 & 56 & 5 & 500 & Oral \\\\\n",
       "\t26 & 53 & 1 & 1000 & Oral \\\\\n",
       "\t27 & 66 & 2 & 1000 & Oral \\\\\n",
       "\t28 & 60 & 3 & 1000 & Oral \\\\\n",
       "\t29 & 51 & 4 & 1000 & Oral \\\\\n",
       "\t30 & 53 & 5 & 1000 & Oral \\\\\n",
       "\t$\\dots$ & $\\dots$ & $\\dots$ & $\\dots$ & $\\dots$ \\\\\n",
       "\\end{tabular}\n"
      ],
      "text/plain": [
       "\u001b[1m100×4 DataFrame\u001b[0m\n",
       "\u001b[1m Row \u001b[0m│\u001b[1m nc_strains \u001b[0m\u001b[1m vamb_run \u001b[0m\u001b[1m contig_cutoff \u001b[0m\u001b[1m location   \u001b[0m\n",
       "     │\u001b[90m Any        \u001b[0m\u001b[90m Any      \u001b[0m\u001b[90m Any           \u001b[0m\u001b[90m Any        \u001b[0m\n",
       "─────┼─────────────────────────────────────────────────\n",
       "   1 │ 58          1         500            Airways\n",
       "   2 │ 75          2         500            Airways\n",
       "   3 │ 75          3         500            Airways\n",
       "   4 │ 78          4         500            Airways\n",
       "   5 │ 73          5         500            Airways\n",
       "   6 │ 93          1         1000           Airways\n",
       "   7 │ 107         2         1000           Airways\n",
       "   8 │ 85          3         1000           Airways\n",
       "   9 │ 96          4         1000           Airways\n",
       "  10 │ 97          5         1000           Airways\n",
       "  11 │ 103         1         1500           Airways\n",
       "  ⋮  │     ⋮          ⋮            ⋮            ⋮\n",
       "  91 │ 49          1         1500           Urogenital\n",
       "  92 │ 51          2         1500           Urogenital\n",
       "  93 │ 48          3         1500           Urogenital\n",
       "  94 │ 47          4         1500           Urogenital\n",
       "  95 │ 54          5         1500           Urogenital\n",
       "  96 │ 52          1         2000           Urogenital\n",
       "  97 │ 45          2         2000           Urogenital\n",
       "  98 │ 50          3         2000           Urogenital\n",
       "  99 │ 48          4         2000           Urogenital\n",
       " 100 │ 46          5         2000           Urogenital\n",
       "\u001b[36m                                        79 rows omitted\u001b[0m"
      ]
     },
     "execution_count": 82,
     "metadata": {},
     "output_type": "execute_result"
    }
   ],
   "source": []
  },
  {
   "cell_type": "code",
   "execution_count": 34,
   "id": "3134fd1b-9bc6-4bf1-af58-f0c474eafa01",
   "metadata": {
    "scrolled": true
   },
   "outputs": [
    {
     "name": "stdout",
     "output_type": "stream",
     "text": [
      "Urogenital\n",
      "500---45\n",
      "500---46\n",
      "500---43\n",
      "500---45\n",
      "500---44\n",
      "1000---45\n",
      "1000---49\n",
      "1000---47\n",
      "1000---50\n",
      "1000---41\n",
      "1500---51\n"
     ]
    },
    {
     "name": "stderr",
     "output_type": "stream",
     "text": [
      "Traceback (most recent call last):\n",
      "  File \"/home/projects/ku_00197/people/lasdan/contig_cutoff/vamb_ptracker_done/add_sample_vambout.py\", line 30, in <module>\n",
      "    id = ref.split('C')[1]\n",
      "         ^^^^^^^^^^^^^^\n",
      "KeyboardInterrupt\n"
     ]
    },
    {
     "ename": "LoadError",
     "evalue": "InterruptException:",
     "output_type": "error",
     "traceback": [
      "InterruptException:",
      "",
      "Stacktrace:",
      "  [1] poptask(W::Base.IntrusiveLinkedListSynchronized{Task})",
      "    @ Base ./task.jl:974",
      "  [2] wait()",
      "    @ Base ./task.jl:983",
      "  [3] wait(c::Base.GenericCondition{Base.Threads.SpinLock}; first::Bool)",
      "    @ Base ./condition.jl:130",
      "  [4] wait",
      "    @ ./condition.jl:125 [inlined]",
      "  [5] wait(x::Base.Process)",
      "    @ Base ./process.jl:661",
      "  [6] success",
      "    @ ./process.jl:523 [inlined]",
      "  [7] run(::Cmd; wait::Bool)",
      "    @ Base ./process.jl:480",
      "  [8] run",
      "    @ ./process.jl:477 [inlined]",
      "  [9] main(sample::String)",
      "    @ Main ./In[33]:17",
      " [10] top-level scope",
      "    @ ./In[34]:4"
     ]
    }
   ],
   "source": [
    "#for location in [\"Airways\", \"Oral\", \"Gastrointestinal\", \"Skin\"]\n",
    "for location in [\"Urogenital\"]\n",
    "    println(location)\n",
    "    df = main(location)\n",
    "end\n",
    "df"
   ]
  },
  {
   "cell_type": "code",
   "execution_count": null,
   "id": "da15b2b9-07bd-4fde-af08-88c015610bb3",
   "metadata": {},
   "outputs": [],
   "source": []
  },
  {
   "cell_type": "code",
   "execution_count": 41,
   "id": "57fb46c6-b92a-4438-9c54-938e7417d362",
   "metadata": {},
   "outputs": [
    {
     "data": {
      "text/plain": [
       "Binning\n",
       "  Reference\n",
       "    Genomes:    2341\n",
       "    Sequences:  2605846\n",
       "    Ranks:      9\n",
       "    Seq length: 56\n",
       "    Assembled:  29.2 %\n",
       "  Bins:        52718\n",
       "  NC genomes:  7\n",
       "  Precisions: [0.6, 0.7, 0.8, 0.9, 0.95, 0.99]\n",
       "  Recalls:    [0.6, 0.7, 0.8, 0.9, 0.95, 0.99]\n",
       "  Recoverable genomes: [739, 625, 512, 360, 250, 0]\n",
       "  Reconstruction (assemblies):\n",
       "    P\\R   0.6  0.7  0.8  0.9 0.95 0.99\n",
       "    0.6    21   15   11   10    8    8\n",
       "    0.7    19   14   11   10    8    8\n",
       "    0.8    19   14   11   10    8    8\n",
       "    0.9    19   14   11   10    8    8\n",
       "    0.95   19   14   11   10    8    8\n",
       "    0.99   19   14   11   10    8    8\n"
      ]
     },
     "execution_count": 41,
     "metadata": {},
     "output_type": "execute_result"
    }
   ],
   "source": []
  },
  {
   "cell_type": "code",
   "execution_count": 271,
   "id": "2206603a-674d-4a77-8724-e6cb23c8ab11",
   "metadata": {},
   "outputs": [
    {
     "name": "stdout",
     "output_type": "stream",
     "text": [
      "2000: 3\n"
     ]
    }
   ],
   "source": [
    "ref = Reference(\"/home/projects/ku_00197/data/ptracker/tmp/outdir_refs/ref_spades_Oral.json\")\n",
    "\n",
    "path =  \"/home/people/lasdan/contig_cutoff/error_free_vamb_cutoff/Airways/cutoff_2000/1_vamb/\"\n",
    "cluster_path = path * \"vae_clusters_unsplit.tsv\"\n",
    "temppath = path * \"formatted_vae_cluster_split.tsv\"\n",
    "final = path * \"formatted_clusters.tsv\"\n",
    "\n",
    "# format vamboutput correctly\n",
    "command = `bash /home/people/lasdan/contig_cutoff/vamb_ptracker_done/format_vambout.sh $cluster_path $temppath Oral $final`\n",
    "run(command)\n",
    "\n",
    "bins = Binning(final, ref)\n",
    "println(para,\": \", bins.recovered_genomes[2][1,1])"
   ]
  },
  {
   "cell_type": "code",
   "execution_count": 269,
   "id": "e54bc763-99ea-4735-b49d-a3ee863dec98",
   "metadata": {},
   "outputs": [
    {
     "data": {
      "text/plain": [
       "Binning\n",
       "  Reference\n",
       "    Genomes:    1324\n",
       "    Sequences:  2322538\n",
       "    Ranks:      9\n",
       "    Seq length: 56\n",
       "    Assembled:  35.6 %\n",
       "  Bins:        10802\n",
       "  NC genomes:  3\n",
       "  Precisions: [0.6, 0.7, 0.8, 0.9, 0.95, 0.99]\n",
       "  Recalls:    [0.6, 0.7, 0.8, 0.9, 0.95, 0.99]\n",
       "  Recoverable genomes: [455, 398, 329, 217, 142, 0]\n",
       "  Reconstruction (assemblies):\n",
       "    P\\R   0.6  0.7  0.8  0.9 0.95 0.99\n",
       "    0.6     6    5    5    5    5    3\n",
       "    0.7     6    5    5    5    5    3\n",
       "    0.8     6    5    5    5    5    3\n",
       "    0.9     6    5    5    5    5    3\n",
       "    0.95    6    5    5    5    5    3\n",
       "    0.99    6    5    5    5    5    3\n"
      ]
     },
     "execution_count": 269,
     "metadata": {},
     "output_type": "execute_result"
    }
   ],
   "source": [
    "bins"
   ]
  },
  {
   "cell_type": "code",
   "execution_count": 175,
   "id": "7b781fa6-0422-4109-b1ee-8f311e5e79a0",
   "metadata": {},
   "outputs": [
    {
     "data": {
      "text/plain": [
       "17"
      ]
     },
     "execution_count": 175,
     "metadata": {},
     "output_type": "execute_result"
    }
   ],
   "source": [
    "n_recovered(bins, 0.66, 0.95; level=1)"
   ]
  },
  {
   "cell_type": "code",
   "execution_count": 545,
   "id": "42794d97-0c0a-4659-84b3-ccba9366a7f9",
   "metadata": {},
   "outputs": [
    {
     "data": {
      "text/plain": [
       "Reference\n",
       "  Genomes:    1324\n",
       "  Sequences:  2322538\n",
       "  Ranks:      9\n",
       "  Seq length: 56\n",
       "  Assembled:  35.6 %"
      ]
     },
     "execution_count": 545,
     "metadata": {},
     "output_type": "execute_result"
    }
   ],
   "source": [
    "ref = Reference(\"/home/projects/ku_00197/data/ptracker/tmp/outdir_refs/ref_spades_Oral.json\")\n",
    "#subset!(ref;\n",
    "#           genomes = is_plasmid\n",
    "#       )\n",
    "#final = \"/home/people/lasdan/contig_cutoff/vamb_ptracker_done/test/formatted_clusters.tsv\"\n",
    "#bins = Binning(final, ref)\n",
    "#println(bins)\n"
   ]
  },
  {
   "cell_type": "code",
   "execution_count": 119,
   "id": "da8359d3-0e86-40d4-9059-28bc8241bf88",
   "metadata": {},
   "outputs": [
    {
     "data": {
      "text/plain": [
       "Set{Any} with 1742212 elements:\n",
       "  \"S7C63427\"\n",
       "  \"S4C376221\"\n",
       "  \"S11C86973\"\n",
       "  \"S8C61334\"\n",
       "  \"S27C274108\"\n",
       "  \"S9C60387\"\n",
       "  \"S10C168953\"\n",
       "  \"S11C77004\"\n",
       "  \"S7C318076\"\n",
       "  \"S8C54557\"\n",
       "  \"S11C9222\"\n",
       "  \"S7C83681\"\n",
       "  \"S4C170962\"\n",
       "  \"S7C30308\"\n",
       "  \"S10C176140\"\n",
       "  \"S7C151061\"\n",
       "  \"S27C359617\"\n",
       "  \"S7C73737\"\n",
       "  \"S9C190496\"\n",
       "  \"S4C381762\"\n",
       "  \"S11C102906\"\n",
       "  \"S11C1560\"\n",
       "  \"S8C78764\"\n",
       "  \"S4C200219\"\n",
       "  \"S4C203076\"\n",
       "  ⋮ "
      ]
     },
     "execution_count": 119,
     "metadata": {},
     "output_type": "execute_result"
    }
   ],
   "source": [
    "list::Array = []\n",
    "for (key,val) in ref.targets_by_name\n",
    "    if ! isempty(val[2])\n",
    "\n",
    "        global a = val\n",
    "        append!(list, [key])\n",
    "    end\n",
    "end\n",
    "set = Set(list)"
   ]
  },
  {
   "cell_type": "code",
   "execution_count": 156,
   "id": "d67a1b2d-6dc7-4662-ac30-dde07335cdd6",
   "metadata": {},
   "outputs": [
    {
     "data": {
      "text/plain": [
       "(Sequence(\"S4C1\", 301156), Tuple{Source{Genome}, UnitRange{Int64}}[(Source(CP004047.1, 3392564), 2764858:3066013)])"
      ]
     },
     "execution_count": 156,
     "metadata": {},
     "output_type": "execute_result"
    }
   ],
   "source": [
    "\"S23C40\" ∈ keys(ref.targets_by_name)\n",
    "ref.targe\n",
    "ts_by_name[\"S4C1\"]\n",
    "\n",
    "S4C572168 GGCTCCGT\n",
    "S4C298348 "
   ]
  },
  {
   "cell_type": "code",
   "execution_count": 526,
   "id": "64d053f4-2016-42e7-a7a0-6fa2c02209c5",
   "metadata": {},
   "outputs": [
    {
     "data": {
      "text/html": [
       "<div><div style = \"float: left;\"><span>0×4 DataFrame</span></div><div style = \"clear: both;\"></div></div><div class = \"data-frame\" style = \"overflow-x: scroll;\"><table class = \"data-frame\" style = \"margin-bottom: 6px;\"><thead><tr class = \"header\"><th class = \"rowNumber\" style = \"font-weight: bold; text-align: right;\">Row</th><th style = \"text-align: left;\">bin</th><th style = \"text-align: left;\">genome</th><th style = \"text-align: left;\">contig_len</th><th style = \"text-align: left;\">from_contig</th></tr><tr class = \"subheader headerLastRow\"><th class = \"rowNumber\" style = \"font-weight: bold; text-align: right;\"></th><th title = \"Any\" style = \"text-align: left;\">Any</th><th title = \"Any\" style = \"text-align: left;\">Any</th><th title = \"Any\" style = \"text-align: left;\">Any</th><th title = \"Any\" style = \"text-align: left;\">Any</th></tr></thead><tbody></tbody></table></div>"
      ],
      "text/latex": [
       "\\begin{tabular}{r|cccc}\n",
       "\t& bin & genome & contig\\_len & from\\_contig\\\\\n",
       "\t\\hline\n",
       "\t& Any & Any & Any & Any\\\\\n",
       "\t\\hline\n",
       "\\end{tabular}\n"
      ],
      "text/plain": [
       "\u001b[1m0×4 DataFrame\u001b[0m\n",
       "\u001b[1m Row \u001b[0m│\u001b[1m bin \u001b[0m\u001b[1m genome \u001b[0m\u001b[1m contig_len \u001b[0m\u001b[1m from_contig \u001b[0m\n",
       "     │\u001b[90m Any \u001b[0m\u001b[90m Any    \u001b[0m\u001b[90m Any        \u001b[0m\u001b[90m Any         \u001b[0m\n",
       "─────┴──────────────────────────────────────"
      ]
     },
     "execution_count": 526,
     "metadata": {},
     "output_type": "execute_result"
    }
   ],
   "source": [
    "using DataFrames\n",
    "using TidierData\n",
    "df = DataFrame(bin = Any[], genome = Any[], contig_len = Any[], from_contig = Any[])"
   ]
  },
  {
   "cell_type": "code",
   "execution_count": 543,
   "id": "0d1c5dc0-0ba5-4452-86b9-6a7d6977abea",
   "metadata": {},
   "outputs": [
    {
     "ename": "LoadError",
     "evalue": "KeyError: key \"S13C116\" not found",
     "output_type": "error",
     "traceback": [
      "KeyError: key \"S13C116\" not found",
      "",
      "Stacktrace:",
      " [1] getindex(h::Dict{String, Tuple{Sequence, Vector{Tuple{Source{Genome}, UnitRange{Int64}}}}}, key::String)",
      "   @ Base ./dict.jl:484",
      " [2] top-level scope",
      "   @ In[543]:1"
     ]
    }
   ],
   "source": [
    "ref.targets_by_name[\"S13C116\"][2]#[1][1].assembly_size\n",
    "#ref.targets_by_name[\"S4C531\"][2][1][1]   #[1]#[1][1]"
   ]
  },
  {
   "cell_type": "code",
   "execution_count": 26,
   "id": "f250fe26-17e5-4717-957e-f1e8facf14e5",
   "metadata": {},
   "outputs": [
    {
     "data": {
      "text/plain": [
       "\"/home/projects/ku_00197/data/ptracker/tmp/errorfree/Airways/vambout/vae_clusters.tsv\""
      ]
     },
     "execution_count": 26,
     "metadata": {},
     "output_type": "execute_result"
    }
   ],
   "source": [
    "ref = Reference(\"/home/projects/ku_00197/data/ptracker/tmp/outdir_refs/ref_spades_Airways.json\")\n",
    "final = \"/home/projects/ku_00197/data/ptracker/tmp/errorfree/Airways/vambout/vae_clusters.tsv\""
   ]
  },
  {
   "cell_type": "code",
   "execution_count": 87,
   "id": "c364604e-f41f-42d1-af10-232c9e2ba425",
   "metadata": {},
   "outputs": [
    {
     "ename": "LoadError",
     "evalue": "type Set has no field assembly_size",
     "output_type": "error",
     "traceback": [
      "type Set has no field assembly_size",
      "",
      "Stacktrace:",
      " [1] getproperty(x::Set{Source{Genome}}, f::Symbol)",
      "   @ Base ./Base.jl:37",
      " [2] top-level scope",
      "   @ ./In[87]:29"
     ]
    }
   ],
   "source": [
    "using DataFrames\n",
    "using TidierData\n",
    "\n",
    "df = DataFrame(bin = Any[], genome = Any[], contig_len = Any[], from_contig = Any[], typ = Any[], genome_size = Any[], assembly_size = Any[])\n",
    "\n",
    "ref = Reference(\"/home/projects/ku_00197/data/ptracker/tmp/outdir_refs/ref_spades_Airways.json\")\n",
    "final = \"/home/projects/ku_00197/data/ptracker/tmp/errorfree/Airways/vambout/vae_clusters.tsv\"\n",
    "#path =  \"/home/people/lasdan/contig_cutoff/error_free_vamb_cutoff/Airways/cutoff_2000/1_vamb/\"\n",
    "#final = path * \"formatted_clusters.tsv\"\n",
    "#final = \"/home/projects/ku_00197/people/lasdan/contig_cutoff/vamb_ptracker_done/test2/formatted_unsplit.tsv\"\n",
    "\n",
    "dict = Dict()\n",
    "global i = 0\n",
    "f = open(final, \"r\")\n",
    "for lines in readlines(f)\n",
    "    id = split(lines)[2]\n",
    "    bin = split(lines)[1]\n",
    "\n",
    "    contig_len = ref.targets_by_name[id][1].length \n",
    "\n",
    "    \n",
    "    global tst = ref.targets_by_name[id][2]\n",
    "\n",
    "\n",
    "    for sos in ref.targets_by_name[id][2]\n",
    "        flag = sos[1].genome.flags\n",
    "        #println(sos[1].genome)\n",
    "        genome = sos[1].genome\n",
    "        genome_size = genome.genome_size\n",
    "        assembly_size = genome.assembly_size\n",
    "        is_genome = Flags.organism in flag\n",
    "        #assembly_size = sos[1].assembly_size\n",
    "        push!(df, [bin, genome, contig_len, id, is_genome, genome_size, assembly_size])\n",
    "        global i += 1\n",
    "        #println(\"| \", sos[1].genome) \n",
    "        #println()\n",
    "        #if bin == \"S4C531\" && genome == \"Genome(OTU_97.34032.1)\"\n",
    "        #    print(lines)\n",
    "    end\n",
    "    \n",
    "    #if strip(id) ∉ keys(ref.targets_by_name)\n",
    "    #    println(id)\n",
    "    #end\n",
    "    \n",
    "    #print(id,\" \" ,bin,\" \")\n",
    "    #if  id  ∈ set\n",
    "    #    \n",
    "    #    i += 1\n",
    "    #    for sos in ref.targets_by_name[id][2]\n",
    "    #        flag = sos[1].genome.flags\n",
    "    #        #print(Flags.plasmid in flag)\n",
    "    #        dict[bin] = sos[1].genome\n",
    "    #        #println(\"| \", sos[1].genome)\n",
    "    #    end\n",
    "    #else\n",
    "    #    println(\"not\", id)\n",
    "    #    i += 1\n",
    "    #end\n",
    "    #if i == 20\n",
    "    #    print(\"break\")\n",
    "    #    break\n",
    "    #end\n",
    "end"
   ]
  },
  {
   "cell_type": "code",
   "execution_count": 33,
   "id": "052b276c-16c6-4482-a069-38a7b94c970f",
   "metadata": {},
   "outputs": [
    {
     "data": {
      "text/html": [
       "<div><div style = \"float: left;\"><span>9×6 DataFrame</span></div><div style = \"clear: both;\"></div></div><div class = \"data-frame\" style = \"overflow-x: scroll;\"><table class = \"data-frame\" style = \"margin-bottom: 6px;\"><thead><tr class = \"header\"><th class = \"rowNumber\" style = \"font-weight: bold; text-align: right;\">Row</th><th style = \"text-align: left;\">bin</th><th style = \"text-align: left;\">genome</th><th style = \"text-align: left;\">contig_len</th><th style = \"text-align: left;\">from_contig</th><th style = \"text-align: left;\">typ</th><th style = \"text-align: left;\">genome_size</th></tr><tr class = \"subheader headerLastRow\"><th class = \"rowNumber\" style = \"font-weight: bold; text-align: right;\"></th><th title = \"Any\" style = \"text-align: left;\">Any</th><th title = \"Any\" style = \"text-align: left;\">Any</th><th title = \"Any\" style = \"text-align: left;\">Any</th><th title = \"Any\" style = \"text-align: left;\">Any</th><th title = \"Any\" style = \"text-align: left;\">Any</th><th title = \"Any\" style = \"text-align: left;\">Any</th></tr></thead><tbody><tr><td class = \"rowNumber\" style = \"font-weight: bold; text-align: right;\">1</td><td style = \"text-align: left;\">vae_611</td><td style = \"text-align: left;\">Genome(st_FN649417.1)</td><td style = \"text-align: left;\">1948</td><td style = \"text-align: left;\">S23C2783</td><td style = \"text-align: left;\">false</td><td style = \"text-align: left;\">67569</td></tr><tr><td class = \"rowNumber\" style = \"font-weight: bold; text-align: right;\">2</td><td style = \"text-align: left;\">vae_611</td><td style = \"text-align: left;\">Genome(OTU_97.1661.0)</td><td style = \"text-align: left;\">1948</td><td style = \"text-align: left;\">S23C2783</td><td style = \"text-align: left;\">true</td><td style = \"text-align: left;\">5217911</td></tr><tr><td class = \"rowNumber\" style = \"font-weight: bold; text-align: right;\">3</td><td style = \"text-align: left;\">vae_611</td><td style = \"text-align: left;\">Genome(OTU_97.1661.0)</td><td style = \"text-align: left;\">1948</td><td style = \"text-align: left;\">S23C2783</td><td style = \"text-align: left;\">true</td><td style = \"text-align: left;\">5217911</td></tr><tr><td class = \"rowNumber\" style = \"font-weight: bold; text-align: right;\">4</td><td style = \"text-align: left;\">vae_611</td><td style = \"text-align: left;\">Genome(st_CP017439.1)</td><td style = \"text-align: left;\">1948</td><td style = \"text-align: left;\">S23C2783</td><td style = \"text-align: left;\">false</td><td style = \"text-align: left;\">93835</td></tr><tr><td class = \"rowNumber\" style = \"font-weight: bold; text-align: right;\">5</td><td style = \"text-align: left;\">vae_611</td><td style = \"text-align: left;\">Genome(OTU_97.2104.1)</td><td style = \"text-align: left;\">1948</td><td style = \"text-align: left;\">S23C2783</td><td style = \"text-align: left;\">true</td><td style = \"text-align: left;\">5484407</td></tr><tr><td class = \"rowNumber\" style = \"font-weight: bold; text-align: right;\">6</td><td style = \"text-align: left;\">vae_611</td><td style = \"text-align: left;\">Genome(OTU_97.2104.1)</td><td style = \"text-align: left;\">1948</td><td style = \"text-align: left;\">S23C2783</td><td style = \"text-align: left;\">true</td><td style = \"text-align: left;\">5484407</td></tr><tr><td class = \"rowNumber\" style = \"font-weight: bold; text-align: right;\">7</td><td style = \"text-align: left;\">vae_611</td><td style = \"text-align: left;\">Genome(OTU_97.2104.1)</td><td style = \"text-align: left;\">1948</td><td style = \"text-align: left;\">S23C2783</td><td style = \"text-align: left;\">true</td><td style = \"text-align: left;\">5484407</td></tr><tr><td class = \"rowNumber\" style = \"font-weight: bold; text-align: right;\">8</td><td style = \"text-align: left;\">vae_611</td><td style = \"text-align: left;\">Genome(OTU_97.2104.1)</td><td style = \"text-align: left;\">1948</td><td style = \"text-align: left;\">S23C2783</td><td style = \"text-align: left;\">true</td><td style = \"text-align: left;\">5484407</td></tr><tr><td class = \"rowNumber\" style = \"font-weight: bold; text-align: right;\">9</td><td style = \"text-align: left;\">vae_611</td><td style = \"text-align: left;\">Genome(OTU_97.2104.1)</td><td style = \"text-align: left;\">1948</td><td style = \"text-align: left;\">S23C2783</td><td style = \"text-align: left;\">true</td><td style = \"text-align: left;\">5484407</td></tr></tbody></table></div>"
      ],
      "text/latex": [
       "\\begin{tabular}{r|cccccc}\n",
       "\t& bin & genome & contig\\_len & from\\_contig & typ & genome\\_size\\\\\n",
       "\t\\hline\n",
       "\t& Any & Any & Any & Any & Any & Any\\\\\n",
       "\t\\hline\n",
       "\t1 & vae\\_611 & Genome(st\\_FN649417.1) & 1948 & S23C2783 & 0 & 67569 \\\\\n",
       "\t2 & vae\\_611 & Genome(OTU\\_97.1661.0) & 1948 & S23C2783 & 1 & 5217911 \\\\\n",
       "\t3 & vae\\_611 & Genome(OTU\\_97.1661.0) & 1948 & S23C2783 & 1 & 5217911 \\\\\n",
       "\t4 & vae\\_611 & Genome(st\\_CP017439.1) & 1948 & S23C2783 & 0 & 93835 \\\\\n",
       "\t5 & vae\\_611 & Genome(OTU\\_97.2104.1) & 1948 & S23C2783 & 1 & 5484407 \\\\\n",
       "\t6 & vae\\_611 & Genome(OTU\\_97.2104.1) & 1948 & S23C2783 & 1 & 5484407 \\\\\n",
       "\t7 & vae\\_611 & Genome(OTU\\_97.2104.1) & 1948 & S23C2783 & 1 & 5484407 \\\\\n",
       "\t8 & vae\\_611 & Genome(OTU\\_97.2104.1) & 1948 & S23C2783 & 1 & 5484407 \\\\\n",
       "\t9 & vae\\_611 & Genome(OTU\\_97.2104.1) & 1948 & S23C2783 & 1 & 5484407 \\\\\n",
       "\\end{tabular}\n"
      ],
      "text/plain": [
       "\u001b[1m9×6 DataFrame\u001b[0m\n",
       "\u001b[1m Row \u001b[0m│\u001b[1m bin     \u001b[0m\u001b[1m genome                \u001b[0m\u001b[1m contig_len \u001b[0m\u001b[1m from_contig \u001b[0m\u001b[1m typ   \u001b[0m\u001b[1m genome_\u001b[0m ⋯\n",
       "     │\u001b[90m Any     \u001b[0m\u001b[90m Any                   \u001b[0m\u001b[90m Any        \u001b[0m\u001b[90m Any         \u001b[0m\u001b[90m Any   \u001b[0m\u001b[90m Any    \u001b[0m ⋯\n",
       "─────┼──────────────────────────────────────────────────────────────────────────\n",
       "   1 │ vae_611  Genome(st_FN649417.1)  1948        S23C2783     false  67569   ⋯\n",
       "   2 │ vae_611  Genome(OTU_97.1661.0)  1948        S23C2783     true   5217911\n",
       "   3 │ vae_611  Genome(OTU_97.1661.0)  1948        S23C2783     true   5217911\n",
       "   4 │ vae_611  Genome(st_CP017439.1)  1948        S23C2783     false  93835\n",
       "   5 │ vae_611  Genome(OTU_97.2104.1)  1948        S23C2783     true   5484407 ⋯\n",
       "   6 │ vae_611  Genome(OTU_97.2104.1)  1948        S23C2783     true   5484407\n",
       "   7 │ vae_611  Genome(OTU_97.2104.1)  1948        S23C2783     true   5484407\n",
       "   8 │ vae_611  Genome(OTU_97.2104.1)  1948        S23C2783     true   5484407\n",
       "   9 │ vae_611  Genome(OTU_97.2104.1)  1948        S23C2783     true   5484407 ⋯\n",
       "\u001b[36m                                                                1 column omitted\u001b[0m"
      ]
     },
     "execution_count": 33,
     "metadata": {},
     "output_type": "execute_result"
    }
   ],
   "source": [
    "@chain df begin \n",
    "    @filter(bin == \"vae_611\")\n",
    "end\n",
    "\n"
   ]
  },
  {
   "cell_type": "code",
   "execution_count": 5,
   "id": "6a77c8b7-d474-436e-bb87-6e7f5c44cdd9",
   "metadata": {},
   "outputs": [
    {
     "data": {
      "text/plain": [
       "7-element Vector{String}:\n",
       " \"OTU_97.1661.0\"\n",
       " \"OTU_97.1661.0\"\n",
       " \"OTU_97.2104.1\"\n",
       " \"OTU_97.2104.1\"\n",
       " \"OTU_97.2104.1\"\n",
       " \"OTU_97.2104.1\"\n",
       " \"OTU_97.2104.1\""
      ]
     },
     "execution_count": 5,
     "metadata": {},
     "output_type": "execute_result"
    }
   ],
   "source": [
    "[x[1].genome.name for x in ref.targets_by_name[\"S23C2783\"][2]]"
   ]
  },
  {
   "cell_type": "code",
   "execution_count": 35,
   "id": "56d45c02-7727-4dd7-969f-c8313c03260f",
   "metadata": {},
   "outputs": [
    {
     "ename": "LoadError",
     "evalue": "UndefVarError: `id` not defined",
     "output_type": "error",
     "traceback": [
      "UndefVarError: `id` not defined",
      "",
      "Stacktrace:",
      " [1] top-level scope",
      "   @ ./In[35]:2"
     ]
    }
   ],
   "source": [
    "#print(@filter(df, bin == \"vae_1018\"))\n",
    "    for sos in ref.targets_by_name[id][2]\n",
    "        flag = sos[1].genome.flags\n",
    "        #println(sos[1].genome)\n",
    "        genome = sos[1].genome\n",
    "        is_genome = Flags.organism in flag\n",
    "        #assembly_size = sos[1].assembly_size\n",
    "        push!(df, [bin, genome, contig_len, id, is_genome])\n",
    "        global i += 1\n",
    "        #println(\"| \", sos[1].genome) \n",
    "        #println()\n",
    "        #if bin == \"S4C531\" && genome == \"Genome(OTU_97.34032.1)\"\n",
    "        #    print(lines)\n",
    "        #end\n",
    "\n",
    "    end"
   ]
  },
  {
   "cell_type": "code",
   "execution_count": 484,
   "id": "6484306d-21f7-4640-8b93-68963c888e54",
   "metadata": {},
   "outputs": [
    {
     "data": {
      "text/html": [
       "<div><div style = \"float: left;\"><span>5×4 DataFrame</span></div><div style = \"clear: both;\"></div></div><div class = \"data-frame\" style = \"overflow-x: scroll;\"><table class = \"data-frame\" style = \"margin-bottom: 6px;\"><thead><tr class = \"header\"><th class = \"rowNumber\" style = \"font-weight: bold; text-align: right;\">Row</th><th style = \"text-align: left;\">bin</th><th style = \"text-align: left;\">genome</th><th style = \"text-align: left;\">contig_len</th><th style = \"text-align: left;\">from_contig</th></tr><tr class = \"subheader headerLastRow\"><th class = \"rowNumber\" style = \"font-weight: bold; text-align: right;\"></th><th title = \"Any\" style = \"text-align: left;\">Any</th><th title = \"Any\" style = \"text-align: left;\">Any</th><th title = \"Any\" style = \"text-align: left;\">Any</th><th title = \"Any\" style = \"text-align: left;\">Any</th></tr></thead><tbody><tr><td class = \"rowNumber\" style = \"font-weight: bold; text-align: right;\">1</td><td style = \"text-align: left;\">A</td><td style = \"text-align: left;\">G1</td><td style = \"text-align: left;\">2</td><td style = \"text-align: left;\">1</td></tr><tr><td class = \"rowNumber\" style = \"font-weight: bold; text-align: right;\">2</td><td style = \"text-align: left;\">A</td><td style = \"text-align: left;\">G2</td><td style = \"text-align: left;\">2</td><td style = \"text-align: left;\">1</td></tr><tr><td class = \"rowNumber\" style = \"font-weight: bold; text-align: right;\">3</td><td style = \"text-align: left;\">A</td><td style = \"text-align: left;\">G3</td><td style = \"text-align: left;\">2</td><td style = \"text-align: left;\">2</td></tr><tr><td class = \"rowNumber\" style = \"font-weight: bold; text-align: right;\">4</td><td style = \"text-align: left;\">A</td><td style = \"text-align: left;\">G3</td><td style = \"text-align: left;\">2</td><td style = \"text-align: left;\">1</td></tr><tr><td class = \"rowNumber\" style = \"font-weight: bold; text-align: right;\">5</td><td style = \"text-align: left;\">A</td><td style = \"text-align: left;\">G3</td><td style = \"text-align: left;\">2</td><td style = \"text-align: left;\">1</td></tr></tbody></table></div>"
      ],
      "text/latex": [
       "\\begin{tabular}{r|cccc}\n",
       "\t& bin & genome & contig\\_len & from\\_contig\\\\\n",
       "\t\\hline\n",
       "\t& Any & Any & Any & Any\\\\\n",
       "\t\\hline\n",
       "\t1 & A & G1 & 2 & 1 \\\\\n",
       "\t2 & A & G2 & 2 & 1 \\\\\n",
       "\t3 & A & G3 & 2 & 2 \\\\\n",
       "\t4 & A & G3 & 2 & 1 \\\\\n",
       "\t5 & A & G3 & 2 & 1 \\\\\n",
       "\\end{tabular}\n"
      ],
      "text/plain": [
       "\u001b[1m5×4 DataFrame\u001b[0m\n",
       "\u001b[1m Row \u001b[0m│\u001b[1m bin \u001b[0m\u001b[1m genome \u001b[0m\u001b[1m contig_len \u001b[0m\u001b[1m from_contig \u001b[0m\n",
       "     │\u001b[90m Any \u001b[0m\u001b[90m Any    \u001b[0m\u001b[90m Any        \u001b[0m\u001b[90m Any         \u001b[0m\n",
       "─────┼──────────────────────────────────────\n",
       "   1 │ A    G1      2           1\n",
       "   2 │ A    G2      2           1\n",
       "   3 │ A    G3      2           2\n",
       "   4 │ A    G3      2           1\n",
       "   5 │ A    G3      2           1"
      ]
     },
     "execution_count": 484,
     "metadata": {},
     "output_type": "execute_result"
    }
   ],
   "source": [
    "df = DataFrame(bin = Any[], genome = Any[], contig_len = Any[], from_contig = Any[])\n",
    "push!(df, [\"A\", \"G1\", 2, 1])\n",
    "push!(df, [\"A\", \"G2\", 2, 1])\n",
    "push!(df, [\"A\", \"G3\", 2, 2])\n",
    "push!(df, [\"A\", \"G3\", 2, 1])\n",
    "push!(df, [\"A\", \"G3\", 2, 1])\n",
    "#push!(df, [\"A\", \"G1\", 2, 2])\n",
    "#push!(df, [\"A\", \"G3\", 2, 3])\n",
    "#push!(df, [\"B\", \"G1\", 2, 3])\n",
    "#push!(df, [\"B\", \"G2\", 2, 1])\n",
    "#push!(df, [\"B\", \"G3\", 2, 2])\n",
    "#push!(df, [\"B\", \"G3\", 2, 1])\n",
    "#push!(df, [\"B\", \"G4\", 2, 3])\n",
    "#push!(df, [\"B\", \"G3\", 2, 1])"
   ]
  },
  {
   "cell_type": "code",
   "execution_count": 55,
   "id": "b60f5c47-4aa2-4446-843a-8bbb17168b54",
   "metadata": {},
   "outputs": [
    {
     "data": {
      "text/html": [
       "<p><b>GroupedDataFrame with 1 group based on key: from_contig</b></p><div><div style = \"float: left;\"><span>First Group (4 rows): from_contig = &quot;S23C2783&quot;</span></div><div style = \"clear: both;\"></div></div><div class = \"data-frame\" style = \"overflow-x: scroll;\"><table class = \"data-frame\" style = \"margin-bottom: 6px;\"><thead><tr class = \"header\"><th class = \"rowNumber\" style = \"font-weight: bold; text-align: right;\">Row</th><th style = \"text-align: left;\">from_contig</th><th style = \"text-align: left;\">genome</th><th style = \"text-align: left;\">contig_len</th><th style = \"text-align: left;\">bin</th><th style = \"text-align: left;\">typ</th></tr><tr class = \"subheader headerLastRow\"><th class = \"rowNumber\" style = \"font-weight: bold; text-align: right;\"></th><th title = \"Any\" style = \"text-align: left;\">Any</th><th title = \"Any\" style = \"text-align: left;\">Any</th><th title = \"Int64\" style = \"text-align: left;\">Int64</th><th title = \"SubString{String}\" style = \"text-align: left;\">SubStrin…</th><th title = \"Bool\" style = \"text-align: left;\">Bool</th></tr></thead><tbody><tr><td class = \"rowNumber\" style = \"font-weight: bold; text-align: right;\">1</td><td style = \"text-align: left;\">S23C2783</td><td style = \"text-align: left;\">Genome(st_FN649417.1)</td><td style = \"text-align: right;\">1948</td><td style = \"text-align: left;\">vae_611</td><td style = \"text-align: right;\">false</td></tr><tr><td class = \"rowNumber\" style = \"font-weight: bold; text-align: right;\">2</td><td style = \"text-align: left;\">S23C2783</td><td style = \"text-align: left;\">Genome(OTU_97.1661.0)</td><td style = \"text-align: right;\">1948</td><td style = \"text-align: left;\">vae_611</td><td style = \"text-align: right;\">true</td></tr><tr><td class = \"rowNumber\" style = \"font-weight: bold; text-align: right;\">3</td><td style = \"text-align: left;\">S23C2783</td><td style = \"text-align: left;\">Genome(st_CP017439.1)</td><td style = \"text-align: right;\">1948</td><td style = \"text-align: left;\">vae_611</td><td style = \"text-align: right;\">false</td></tr><tr><td class = \"rowNumber\" style = \"font-weight: bold; text-align: right;\">4</td><td style = \"text-align: left;\">S23C2783</td><td style = \"text-align: left;\">Genome(OTU_97.2104.1)</td><td style = \"text-align: right;\">1948</td><td style = \"text-align: left;\">vae_611</td><td style = \"text-align: right;\">true</td></tr></tbody></table></div>"
      ],
      "text/latex": [
       "GroupedDataFrame with 1 group based on key: from\\_contig\n",
       "\n",
       "First Group (4 rows): from\\_contig = \"S23C2783\"\n",
       "\n",
       "\\begin{tabular}{r|ccccc}\n",
       "\t& from\\_contig & genome & contig\\_len & bin & typ\\\\\n",
       "\t\\hline\n",
       "\t& Any & Any & Int64 & SubStrin… & Bool\\\\\n",
       "\t\\hline\n",
       "\t1 & S23C2783 & Genome(st\\_FN649417.1) & 1948 & vae\\_611 & 0 \\\\\n",
       "\t2 & S23C2783 & Genome(OTU\\_97.1661.0) & 1948 & vae\\_611 & 1 \\\\\n",
       "\t3 & S23C2783 & Genome(st\\_CP017439.1) & 1948 & vae\\_611 & 0 \\\\\n",
       "\t4 & S23C2783 & Genome(OTU\\_97.2104.1) & 1948 & vae\\_611 & 1 \\\\\n",
       "\\end{tabular}\n"
      ],
      "text/plain": [
       "GroupedDataFrame with 1 group based on key: from_contig\n",
       "First Group (4 rows): from_contig = \"S23C2783\"\n",
       "\u001b[1m Row \u001b[0m│\u001b[1m from_contig \u001b[0m\u001b[1m genome                \u001b[0m\u001b[1m contig_len \u001b[0m\u001b[1m bin       \u001b[0m\u001b[1m typ   \u001b[0m\n",
       "     │\u001b[90m Any         \u001b[0m\u001b[90m Any                   \u001b[0m\u001b[90m Int64      \u001b[0m\u001b[90m SubStrin… \u001b[0m\u001b[90m Bool  \u001b[0m\n",
       "─────┼──────────────────────────────────────────────────────────────────\n",
       "   1 │ S23C2783     Genome(st_FN649417.1)        1948  vae_611    false\n",
       "   2 │ S23C2783     Genome(OTU_97.1661.0)        1948  vae_611     true\n",
       "   3 │ S23C2783     Genome(st_CP017439.1)        1948  vae_611    false\n",
       "   4 │ S23C2783     Genome(OTU_97.2104.1)        1948  vae_611     true"
      ]
     },
     "execution_count": 55,
     "metadata": {},
     "output_type": "execute_result"
    }
   ],
   "source": [
    "@chain df begin \n",
    "    @filter(bin == \"vae_611\")\n",
    "    @group_by(from_contig, genome)\n",
    "    @summarise( genome = first(genome), \n",
    "                contig_len = first(contig_len),\n",
    "                bin = first(bin),\n",
    "                from_contig = first(from_contig),\n",
    "                typ = first(typ),\n",
    "    )\n",
    "end\n",
    "\n",
    "    #6708\n",
    "#@filter(df3, bin == \"S4C531\")"
   ]
  },
  {
   "cell_type": "code",
   "execution_count": 9,
   "id": "3c4f0871-e92b-4260-866a-50ba078094be",
   "metadata": {},
   "outputs": [
    {
     "data": {
      "text/html": [
       "<div><div style = \"float: left;\"><span>115449×6 DataFrame</span></div><div style = \"float: right;\"><span style = \"font-style: italic;\">115424 rows omitted</span></div><div style = \"clear: both;\"></div></div><div class = \"data-frame\" style = \"overflow-x: scroll;\"><table class = \"data-frame\" style = \"margin-bottom: 6px;\"><thead><tr class = \"header\"><th class = \"rowNumber\" style = \"font-weight: bold; text-align: right;\">Row</th><th style = \"text-align: left;\">bin</th><th style = \"text-align: left;\">genome</th><th style = \"text-align: left;\">contig_len</th><th style = \"text-align: left;\">from_contig</th><th style = \"text-align: left;\">typ</th><th style = \"text-align: left;\">genome_size</th></tr><tr class = \"subheader headerLastRow\"><th class = \"rowNumber\" style = \"font-weight: bold; text-align: right;\"></th><th title = \"Any\" style = \"text-align: left;\">Any</th><th title = \"Any\" style = \"text-align: left;\">Any</th><th title = \"Any\" style = \"text-align: left;\">Any</th><th title = \"Any\" style = \"text-align: left;\">Any</th><th title = \"Any\" style = \"text-align: left;\">Any</th><th title = \"Any\" style = \"text-align: left;\">Any</th></tr></thead><tbody><tr><td class = \"rowNumber\" style = \"font-weight: bold; text-align: right;\">1</td><td style = \"text-align: left;\">vae_1</td><td style = \"text-align: left;\">Genome(OTU_97.588.0)</td><td style = \"text-align: left;\">3106</td><td style = \"text-align: left;\">S27C4450</td><td style = \"text-align: left;\">true</td><td style = \"text-align: left;\">3785755</td></tr><tr><td class = \"rowNumber\" style = \"font-weight: bold; text-align: right;\">2</td><td style = \"text-align: left;\">vae_2</td><td style = \"text-align: left;\">Genome(OTU_97.21926.0)</td><td style = \"text-align: left;\">2361</td><td style = \"text-align: left;\">S12C1544</td><td style = \"text-align: left;\">true</td><td style = \"text-align: left;\">2772261</td></tr><tr><td class = \"rowNumber\" style = \"font-weight: bold; text-align: right;\">3</td><td style = \"text-align: left;\">vae_3</td><td style = \"text-align: left;\">Genome(OTU_97.39888.0)</td><td style = \"text-align: left;\">2701</td><td style = \"text-align: left;\">S7C2371</td><td style = \"text-align: left;\">true</td><td style = \"text-align: left;\">1809844</td></tr><tr><td class = \"rowNumber\" style = \"font-weight: bold; text-align: right;\">4</td><td style = \"text-align: left;\">vae_3</td><td style = \"text-align: left;\">Genome(OTU_97.44564.0)</td><td style = \"text-align: left;\">2701</td><td style = \"text-align: left;\">S7C2371</td><td style = \"text-align: left;\">true</td><td style = \"text-align: left;\">1814118</td></tr><tr><td class = \"rowNumber\" style = \"font-weight: bold; text-align: right;\">5</td><td style = \"text-align: left;\">vae_3</td><td style = \"text-align: left;\">Genome(OTU_97.23667.1)</td><td style = \"text-align: left;\">2701</td><td style = \"text-align: left;\">S7C2371</td><td style = \"text-align: left;\">true</td><td style = \"text-align: left;\">1923780</td></tr><tr><td class = \"rowNumber\" style = \"font-weight: bold; text-align: right;\">6</td><td style = \"text-align: left;\">vae_4</td><td style = \"text-align: left;\">Genome(OTU_97.22413.1)</td><td style = \"text-align: left;\">2971</td><td style = \"text-align: left;\">S12C1209</td><td style = \"text-align: left;\">true</td><td style = \"text-align: left;\">2494543</td></tr><tr><td class = \"rowNumber\" style = \"font-weight: bold; text-align: right;\">7</td><td style = \"text-align: left;\">vae_5</td><td style = \"text-align: left;\">Genome(OTU_97.35048.0)</td><td style = \"text-align: left;\">3199</td><td style = \"text-align: left;\">S27C4277</td><td style = \"text-align: left;\">true</td><td style = \"text-align: left;\">2530587</td></tr><tr><td class = \"rowNumber\" style = \"font-weight: bold; text-align: right;\">8</td><td style = \"text-align: left;\">vae_6</td><td style = \"text-align: left;\">Genome(OTU_97.22413.1)</td><td style = \"text-align: left;\">3110</td><td style = \"text-align: left;\">S12C1157</td><td style = \"text-align: left;\">true</td><td style = \"text-align: left;\">2494543</td></tr><tr><td class = \"rowNumber\" style = \"font-weight: bold; text-align: right;\">9</td><td style = \"text-align: left;\">vae_7</td><td style = \"text-align: left;\">Genome(OTU_97.24447.1)</td><td style = \"text-align: left;\">2396</td><td style = \"text-align: left;\">S9C3566</td><td style = \"text-align: left;\">true</td><td style = \"text-align: left;\">2822480</td></tr><tr><td class = \"rowNumber\" style = \"font-weight: bold; text-align: right;\">10</td><td style = \"text-align: left;\">vae_9</td><td style = \"text-align: left;\">Genome(OTU_97.35048.0)</td><td style = \"text-align: left;\">3148</td><td style = \"text-align: left;\">S27C4377</td><td style = \"text-align: left;\">true</td><td style = \"text-align: left;\">2530587</td></tr><tr><td class = \"rowNumber\" style = \"font-weight: bold; text-align: right;\">11</td><td style = \"text-align: left;\">vae_10</td><td style = \"text-align: left;\">Genome(OTU_97.1365.0)</td><td style = \"text-align: left;\">1796</td><td style = \"text-align: left;\">S26C4984</td><td style = \"text-align: left;\">true</td><td style = \"text-align: left;\">5465686</td></tr><tr><td class = \"rowNumber\" style = \"font-weight: bold; text-align: right;\">12</td><td style = \"text-align: left;\">vae_10</td><td style = \"text-align: left;\">Genome(OTU_97.41724.0)</td><td style = \"text-align: left;\">1796</td><td style = \"text-align: left;\">S26C4984</td><td style = \"text-align: left;\">true</td><td style = \"text-align: left;\">5561289</td></tr><tr><td class = \"rowNumber\" style = \"font-weight: bold; text-align: right;\">13</td><td style = \"text-align: left;\">vae_11</td><td style = \"text-align: left;\">Genome(OTU_97.37290.0)</td><td style = \"text-align: left;\">1980</td><td style = \"text-align: left;\">S7C3465</td><td style = \"text-align: left;\">true</td><td style = \"text-align: left;\">2727132</td></tr><tr><td style = \"text-align: right;\">&vellip;</td><td style = \"text-align: right;\">&vellip;</td><td style = \"text-align: right;\">&vellip;</td><td style = \"text-align: right;\">&vellip;</td><td style = \"text-align: right;\">&vellip;</td><td style = \"text-align: right;\">&vellip;</td><td style = \"text-align: right;\">&vellip;</td></tr><tr><td class = \"rowNumber\" style = \"font-weight: bold; text-align: right;\">115438</td><td style = \"text-align: left;\">vae_12392</td><td style = \"text-align: left;\">Genome(OTU_97.45246.0)</td><td style = \"text-align: left;\">1553</td><td style = \"text-align: left;\">S10C5508</td><td style = \"text-align: left;\">true</td><td style = \"text-align: left;\">2061871</td></tr><tr><td class = \"rowNumber\" style = \"font-weight: bold; text-align: right;\">115439</td><td style = \"text-align: left;\">vae_12393</td><td style = \"text-align: left;\">Genome(OTU_97.45246.0)</td><td style = \"text-align: left;\">3377</td><td style = \"text-align: left;\">S8C1445</td><td style = \"text-align: left;\">true</td><td style = \"text-align: left;\">2061871</td></tr><tr><td class = \"rowNumber\" style = \"font-weight: bold; text-align: right;\">115440</td><td style = \"text-align: left;\">vae_12394</td><td style = \"text-align: left;\">Genome(OTU_97.39039.1)</td><td style = \"text-align: left;\">10357</td><td style = \"text-align: left;\">S27C1289</td><td style = \"text-align: left;\">true</td><td style = \"text-align: left;\">1883874</td></tr><tr><td class = \"rowNumber\" style = \"font-weight: bold; text-align: right;\">115441</td><td style = \"text-align: left;\">vae_12394</td><td style = \"text-align: left;\">Genome(OTU_97.42482.0)</td><td style = \"text-align: left;\">10357</td><td style = \"text-align: left;\">S27C1289</td><td style = \"text-align: left;\">true</td><td style = \"text-align: left;\">1723396</td></tr><tr><td class = \"rowNumber\" style = \"font-weight: bold; text-align: right;\">115442</td><td style = \"text-align: left;\">vae_12394</td><td style = \"text-align: left;\">Genome(OTU_97.16586.1)</td><td style = \"text-align: left;\">10357</td><td style = \"text-align: left;\">S27C1289</td><td style = \"text-align: left;\">true</td><td style = \"text-align: left;\">1731225</td></tr><tr><td class = \"rowNumber\" style = \"font-weight: bold; text-align: right;\">115443</td><td style = \"text-align: left;\">vae_12394</td><td style = \"text-align: left;\">Genome(OTU_97.44375.1)</td><td style = \"text-align: left;\">10357</td><td style = \"text-align: left;\">S27C1289</td><td style = \"text-align: left;\">true</td><td style = \"text-align: left;\">1818666</td></tr><tr><td class = \"rowNumber\" style = \"font-weight: bold; text-align: right;\">115444</td><td style = \"text-align: left;\">vae_12394</td><td style = \"text-align: left;\">Genome(OTU_97.28759.0)</td><td style = \"text-align: left;\">10357</td><td style = \"text-align: left;\">S27C1289</td><td style = \"text-align: left;\">true</td><td style = \"text-align: left;\">1974903</td></tr><tr><td class = \"rowNumber\" style = \"font-weight: bold; text-align: right;\">115445</td><td style = \"text-align: left;\">vae_12394</td><td style = \"text-align: left;\">Genome(OTU_97.32897.1)</td><td style = \"text-align: left;\">10357</td><td style = \"text-align: left;\">S27C1289</td><td style = \"text-align: left;\">true</td><td style = \"text-align: left;\">1902248</td></tr><tr><td class = \"rowNumber\" style = \"font-weight: bold; text-align: right;\">115446</td><td style = \"text-align: left;\">vae_12394</td><td style = \"text-align: left;\">Genome(OTU_97.19375.0)</td><td style = \"text-align: left;\">10357</td><td style = \"text-align: left;\">S27C1289</td><td style = \"text-align: left;\">true</td><td style = \"text-align: left;\">1875647</td></tr><tr><td class = \"rowNumber\" style = \"font-weight: bold; text-align: right;\">115447</td><td style = \"text-align: left;\">vae_12394</td><td style = \"text-align: left;\">Genome(OTU_97.34134.1)</td><td style = \"text-align: left;\">10357</td><td style = \"text-align: left;\">S27C1289</td><td style = \"text-align: left;\">true</td><td style = \"text-align: left;\">1915835</td></tr><tr><td class = \"rowNumber\" style = \"font-weight: bold; text-align: right;\">115448</td><td style = \"text-align: left;\">vae_12394</td><td style = \"text-align: left;\">Genome(OTU_97.42441.0)</td><td style = \"text-align: left;\">10357</td><td style = \"text-align: left;\">S27C1289</td><td style = \"text-align: left;\">true</td><td style = \"text-align: left;\">1862708</td></tr><tr><td class = \"rowNumber\" style = \"font-weight: bold; text-align: right;\">115449</td><td style = \"text-align: left;\">vae_12394</td><td style = \"text-align: left;\">Genome(OTU_97.34346.0)</td><td style = \"text-align: left;\">10357</td><td style = \"text-align: left;\">S27C1289</td><td style = \"text-align: left;\">true</td><td style = \"text-align: left;\">1967773</td></tr></tbody></table></div>"
      ],
      "text/latex": [
       "\\begin{tabular}{r|cccccc}\n",
       "\t& bin & genome & contig\\_len & from\\_contig & typ & genome\\_size\\\\\n",
       "\t\\hline\n",
       "\t& Any & Any & Any & Any & Any & Any\\\\\n",
       "\t\\hline\n",
       "\t1 & vae\\_1 & Genome(OTU\\_97.588.0) & 3106 & S27C4450 & 1 & 3785755 \\\\\n",
       "\t2 & vae\\_2 & Genome(OTU\\_97.21926.0) & 2361 & S12C1544 & 1 & 2772261 \\\\\n",
       "\t3 & vae\\_3 & Genome(OTU\\_97.39888.0) & 2701 & S7C2371 & 1 & 1809844 \\\\\n",
       "\t4 & vae\\_3 & Genome(OTU\\_97.44564.0) & 2701 & S7C2371 & 1 & 1814118 \\\\\n",
       "\t5 & vae\\_3 & Genome(OTU\\_97.23667.1) & 2701 & S7C2371 & 1 & 1923780 \\\\\n",
       "\t6 & vae\\_4 & Genome(OTU\\_97.22413.1) & 2971 & S12C1209 & 1 & 2494543 \\\\\n",
       "\t7 & vae\\_5 & Genome(OTU\\_97.35048.0) & 3199 & S27C4277 & 1 & 2530587 \\\\\n",
       "\t8 & vae\\_6 & Genome(OTU\\_97.22413.1) & 3110 & S12C1157 & 1 & 2494543 \\\\\n",
       "\t9 & vae\\_7 & Genome(OTU\\_97.24447.1) & 2396 & S9C3566 & 1 & 2822480 \\\\\n",
       "\t10 & vae\\_9 & Genome(OTU\\_97.35048.0) & 3148 & S27C4377 & 1 & 2530587 \\\\\n",
       "\t11 & vae\\_10 & Genome(OTU\\_97.1365.0) & 1796 & S26C4984 & 1 & 5465686 \\\\\n",
       "\t12 & vae\\_10 & Genome(OTU\\_97.41724.0) & 1796 & S26C4984 & 1 & 5561289 \\\\\n",
       "\t13 & vae\\_11 & Genome(OTU\\_97.37290.0) & 1980 & S7C3465 & 1 & 2727132 \\\\\n",
       "\t14 & vae\\_12 & Genome(OTU\\_97.36185.0) & 2440 & S10C3101 & 1 & 2505151 \\\\\n",
       "\t15 & vae\\_12 & Genome(OTU\\_97.35278.0) & 2440 & S10C3101 & 1 & 2463809 \\\\\n",
       "\t16 & vae\\_12 & Genome(OTU\\_97.45281.0) & 2440 & S10C3101 & 1 & 2499531 \\\\\n",
       "\t17 & vae\\_12 & Genome(OTU\\_97.31374.0) & 2440 & S10C3101 & 1 & 2509405 \\\\\n",
       "\t18 & vae\\_12 & Genome(OTU\\_97.31167.1) & 2440 & S10C3101 & 1 & 2456943 \\\\\n",
       "\t19 & vae\\_12 & Genome(OTU\\_97.19917.0) & 2440 & S10C3101 & 1 & 2479750 \\\\\n",
       "\t20 & vae\\_13 & Genome(OTU\\_97.44294.0) & 2608 & S4C4965 & 1 & 2049552 \\\\\n",
       "\t21 & vae\\_14 & Genome(OTU\\_97.36161.1) & 7765 & S9C918 & 1 & 3475984 \\\\\n",
       "\t22 & vae\\_14 & Genome(OTU\\_97.30815.1) & 14100 & S7C543 & 1 & 2825136 \\\\\n",
       "\t23 & vae\\_14 & Genome(OTU\\_97.36185.0) & 178011 & S11C14 & 1 & 2505151 \\\\\n",
       "\t24 & vae\\_14 & Genome(OTU\\_97.41428.0) & 24376 & S10C403 & 1 & 5654221 \\\\\n",
       "\t25 & vae\\_14 & Genome(OTU\\_97.44585.0) & 40599 & S10C250 & 1 & 2850076 \\\\\n",
       "\t26 & vae\\_14 & Genome(OTU\\_97.36233.0) & 40599 & S10C250 & 1 & 2916243 \\\\\n",
       "\t27 & vae\\_14 & Genome(OTU\\_97.37297.1) & 40599 & S10C250 & 1 & 2896192 \\\\\n",
       "\t28 & vae\\_14 & Genome(OTU\\_97.34830.0) & 40599 & S10C250 & 1 & 2763732 \\\\\n",
       "\t29 & vae\\_14 & Genome(OTU\\_97.34032.1) & 40599 & S10C250 & 1 & 2939735 \\\\\n",
       "\t30 & vae\\_14 & Genome(OTU\\_97.35712.0) & 40599 & S10C250 & 1 & 2936714 \\\\\n",
       "\t$\\dots$ & $\\dots$ & $\\dots$ & $\\dots$ & $\\dots$ & $\\dots$ & $\\dots$ \\\\\n",
       "\\end{tabular}\n"
      ],
      "text/plain": [
       "\u001b[1m115449×6 DataFrame\u001b[0m\n",
       "\u001b[1m    Row \u001b[0m│\u001b[1m bin       \u001b[0m\u001b[1m genome                 \u001b[0m\u001b[1m contig_len \u001b[0m\u001b[1m from_contig \u001b[0m\u001b[1m typ  \u001b[0m\u001b[1m ge\u001b[0m ⋯\n",
       "        │\u001b[90m Any       \u001b[0m\u001b[90m Any                    \u001b[0m\u001b[90m Any        \u001b[0m\u001b[90m Any         \u001b[0m\u001b[90m Any  \u001b[0m\u001b[90m An\u001b[0m ⋯\n",
       "────────┼───────────────────────────────────────────────────────────────────────\n",
       "      1 │ vae_1      Genome(OTU_97.588.0)    3106        S27C4450     true  37 ⋯\n",
       "      2 │ vae_2      Genome(OTU_97.21926.0)  2361        S12C1544     true  27\n",
       "      3 │ vae_3      Genome(OTU_97.39888.0)  2701        S7C2371      true  18\n",
       "      4 │ vae_3      Genome(OTU_97.44564.0)  2701        S7C2371      true  18\n",
       "      5 │ vae_3      Genome(OTU_97.23667.1)  2701        S7C2371      true  19 ⋯\n",
       "      6 │ vae_4      Genome(OTU_97.22413.1)  2971        S12C1209     true  24\n",
       "      7 │ vae_5      Genome(OTU_97.35048.0)  3199        S27C4277     true  25\n",
       "      8 │ vae_6      Genome(OTU_97.22413.1)  3110        S12C1157     true  24\n",
       "      9 │ vae_7      Genome(OTU_97.24447.1)  2396        S9C3566      true  28 ⋯\n",
       "     10 │ vae_9      Genome(OTU_97.35048.0)  3148        S27C4377     true  25\n",
       "     11 │ vae_10     Genome(OTU_97.1365.0)   1796        S26C4984     true  54\n",
       "   ⋮    │     ⋮                ⋮                 ⋮            ⋮        ⋮       ⋱\n",
       " 115440 │ vae_12394  Genome(OTU_97.39039.1)  10357       S27C1289     true  18\n",
       " 115441 │ vae_12394  Genome(OTU_97.42482.0)  10357       S27C1289     true  17 ⋯\n",
       " 115442 │ vae_12394  Genome(OTU_97.16586.1)  10357       S27C1289     true  17\n",
       " 115443 │ vae_12394  Genome(OTU_97.44375.1)  10357       S27C1289     true  18\n",
       " 115444 │ vae_12394  Genome(OTU_97.28759.0)  10357       S27C1289     true  19\n",
       " 115445 │ vae_12394  Genome(OTU_97.32897.1)  10357       S27C1289     true  19 ⋯\n",
       " 115446 │ vae_12394  Genome(OTU_97.19375.0)  10357       S27C1289     true  18\n",
       " 115447 │ vae_12394  Genome(OTU_97.34134.1)  10357       S27C1289     true  19\n",
       " 115448 │ vae_12394  Genome(OTU_97.42441.0)  10357       S27C1289     true  18\n",
       " 115449 │ vae_12394  Genome(OTU_97.34346.0)  10357       S27C1289     true  19 ⋯\n",
       "\u001b[36m                                                1 column and 115428 rows omitted\u001b[0m"
      ]
     },
     "execution_count": 9,
     "metadata": {},
     "output_type": "execute_result"
    }
   ],
   "source": [
    "\n",
    "@chain df_with_contig_len begin \n",
    "    @filter(bin == \"vae_65\")\n",
    "end\n",
    "#@chain df_unique begin \n",
    "#    @filter(bin == \"vae_65\")\n",
    "#end\n",
    "df"
   ]
  },
  {
   "cell_type": "code",
   "execution_count": 80,
   "id": "5cbe16e0-84cf-4ead-9ab7-1e3ef59345ab",
   "metadata": {},
   "outputs": [
    {
     "data": {
      "text/html": [
       "<div><div style = \"float: left;\"><span>118807×8 DataFrame</span></div><div style = \"float: right;\"><span style = \"font-style: italic;\">118782 rows omitted</span></div><div style = \"clear: both;\"></div></div><div class = \"data-frame\" style = \"overflow-x: scroll;\"><table class = \"data-frame\" style = \"margin-bottom: 6px;\"><thead><tr class = \"header\"><th class = \"rowNumber\" style = \"font-weight: bold; text-align: right;\">Row</th><th style = \"text-align: left;\">bin</th><th style = \"text-align: left;\">total_bin_contig_len</th><th style = \"text-align: left;\">from_contig</th><th style = \"text-align: left;\">genome</th><th style = \"text-align: left;\">contig_len</th><th style = \"text-align: left;\">typ</th><th style = \"text-align: left;\">genome_size</th><th style = \"text-align: left;\">assembly_size</th></tr><tr class = \"subheader headerLastRow\"><th class = \"rowNumber\" style = \"font-weight: bold; text-align: right;\"></th><th title = \"SubString{String}\" style = \"text-align: left;\">SubStrin…</th><th title = \"Union{Missing, Int64}\" style = \"text-align: left;\">Int64?</th><th title = \"Any\" style = \"text-align: left;\">Any</th><th title = \"Any\" style = \"text-align: left;\">Any</th><th title = \"Int64\" style = \"text-align: left;\">Int64</th><th title = \"Bool\" style = \"text-align: left;\">Bool</th><th title = \"Int64\" style = \"text-align: left;\">Int64</th><th title = \"Int64\" style = \"text-align: left;\">Int64</th></tr></thead><tbody><tr><td class = \"rowNumber\" style = \"font-weight: bold; text-align: right;\">1</td><td style = \"text-align: left;\">vae_1</td><td style = \"text-align: right;\">3106</td><td style = \"text-align: left;\">S27C4450</td><td style = \"text-align: left;\">Genome(OTU_97.588.0)</td><td style = \"text-align: right;\">3106</td><td style = \"text-align: right;\">true</td><td style = \"text-align: right;\">3785755</td><td style = \"text-align: right;\">3710335</td></tr><tr><td class = \"rowNumber\" style = \"font-weight: bold; text-align: right;\">2</td><td style = \"text-align: left;\">vae_2</td><td style = \"text-align: right;\">2361</td><td style = \"text-align: left;\">S12C1544</td><td style = \"text-align: left;\">Genome(OTU_97.21926.0)</td><td style = \"text-align: right;\">2361</td><td style = \"text-align: right;\">true</td><td style = \"text-align: right;\">2772261</td><td style = \"text-align: right;\">2702457</td></tr><tr><td class = \"rowNumber\" style = \"font-weight: bold; text-align: right;\">3</td><td style = \"text-align: left;\">vae_3</td><td style = \"text-align: right;\">2701</td><td style = \"text-align: left;\">S7C2371</td><td style = \"text-align: left;\">Genome(OTU_97.39888.0)</td><td style = \"text-align: right;\">2701</td><td style = \"text-align: right;\">true</td><td style = \"text-align: right;\">1809844</td><td style = \"text-align: right;\">1625377</td></tr><tr><td class = \"rowNumber\" style = \"font-weight: bold; text-align: right;\">4</td><td style = \"text-align: left;\">vae_3</td><td style = \"text-align: right;\">2701</td><td style = \"text-align: left;\">S7C2371</td><td style = \"text-align: left;\">Genome(OTU_97.44564.0)</td><td style = \"text-align: right;\">2701</td><td style = \"text-align: right;\">true</td><td style = \"text-align: right;\">1814118</td><td style = \"text-align: right;\">1748556</td></tr><tr><td class = \"rowNumber\" style = \"font-weight: bold; text-align: right;\">5</td><td style = \"text-align: left;\">vae_3</td><td style = \"text-align: right;\">2701</td><td style = \"text-align: left;\">S7C2371</td><td style = \"text-align: left;\">Genome(OTU_97.23667.1)</td><td style = \"text-align: right;\">2701</td><td style = \"text-align: right;\">true</td><td style = \"text-align: right;\">1923780</td><td style = \"text-align: right;\">1311379</td></tr><tr><td class = \"rowNumber\" style = \"font-weight: bold; text-align: right;\">6</td><td style = \"text-align: left;\">vae_4</td><td style = \"text-align: right;\">2971</td><td style = \"text-align: left;\">S12C1209</td><td style = \"text-align: left;\">Genome(OTU_97.22413.1)</td><td style = \"text-align: right;\">2971</td><td style = \"text-align: right;\">true</td><td style = \"text-align: right;\">2494543</td><td style = \"text-align: right;\">2409619</td></tr><tr><td class = \"rowNumber\" style = \"font-weight: bold; text-align: right;\">7</td><td style = \"text-align: left;\">vae_5</td><td style = \"text-align: right;\">3199</td><td style = \"text-align: left;\">S27C4277</td><td style = \"text-align: left;\">Genome(OTU_97.35048.0)</td><td style = \"text-align: right;\">3199</td><td style = \"text-align: right;\">true</td><td style = \"text-align: right;\">2530587</td><td style = \"text-align: right;\">2447239</td></tr><tr><td class = \"rowNumber\" style = \"font-weight: bold; text-align: right;\">8</td><td style = \"text-align: left;\">vae_6</td><td style = \"text-align: right;\">3110</td><td style = \"text-align: left;\">S12C1157</td><td style = \"text-align: left;\">Genome(OTU_97.22413.1)</td><td style = \"text-align: right;\">3110</td><td style = \"text-align: right;\">true</td><td style = \"text-align: right;\">2494543</td><td style = \"text-align: right;\">2409619</td></tr><tr><td class = \"rowNumber\" style = \"font-weight: bold; text-align: right;\">9</td><td style = \"text-align: left;\">vae_7</td><td style = \"text-align: right;\">2396</td><td style = \"text-align: left;\">S9C3566</td><td style = \"text-align: left;\">Genome(OTU_97.24447.1)</td><td style = \"text-align: right;\">2396</td><td style = \"text-align: right;\">true</td><td style = \"text-align: right;\">2822480</td><td style = \"text-align: right;\">2780509</td></tr><tr><td class = \"rowNumber\" style = \"font-weight: bold; text-align: right;\">10</td><td style = \"text-align: left;\">vae_8</td><td style = \"text-align: right;\">2933</td><td style = \"text-align: left;\">S9C2770</td><td style = \"text-align: left;\">Genome(st_CP005085.1)</td><td style = \"text-align: right;\">2933</td><td style = \"text-align: right;\">false</td><td style = \"text-align: right;\">527186</td><td style = \"text-align: right;\">505716</td></tr><tr><td class = \"rowNumber\" style = \"font-weight: bold; text-align: right;\">11</td><td style = \"text-align: left;\">vae_9</td><td style = \"text-align: right;\">3148</td><td style = \"text-align: left;\">S27C4377</td><td style = \"text-align: left;\">Genome(OTU_97.35048.0)</td><td style = \"text-align: right;\">3148</td><td style = \"text-align: right;\">true</td><td style = \"text-align: right;\">2530587</td><td style = \"text-align: right;\">2447239</td></tr><tr><td class = \"rowNumber\" style = \"font-weight: bold; text-align: right;\">12</td><td style = \"text-align: left;\">vae_10</td><td style = \"text-align: right;\">1796</td><td style = \"text-align: left;\">S26C4984</td><td style = \"text-align: left;\">Genome(OTU_97.1365.0)</td><td style = \"text-align: right;\">1796</td><td style = \"text-align: right;\">true</td><td style = \"text-align: right;\">5465686</td><td style = \"text-align: right;\">4601794</td></tr><tr><td class = \"rowNumber\" style = \"font-weight: bold; text-align: right;\">13</td><td style = \"text-align: left;\">vae_10</td><td style = \"text-align: right;\">1796</td><td style = \"text-align: left;\">S26C4984</td><td style = \"text-align: left;\">Genome(OTU_97.41724.0)</td><td style = \"text-align: right;\">1796</td><td style = \"text-align: right;\">true</td><td style = \"text-align: right;\">5561289</td><td style = \"text-align: right;\">4276048</td></tr><tr><td style = \"text-align: right;\">&vellip;</td><td style = \"text-align: right;\">&vellip;</td><td style = \"text-align: right;\">&vellip;</td><td style = \"text-align: right;\">&vellip;</td><td style = \"text-align: right;\">&vellip;</td><td style = \"text-align: right;\">&vellip;</td><td style = \"text-align: right;\">&vellip;</td><td style = \"text-align: right;\">&vellip;</td><td style = \"text-align: right;\">&vellip;</td></tr><tr><td class = \"rowNumber\" style = \"font-weight: bold; text-align: right;\">118796</td><td style = \"text-align: left;\">vae_12392</td><td style = \"text-align: right;\">1553</td><td style = \"text-align: left;\">S10C5508</td><td style = \"text-align: left;\">Genome(OTU_97.45246.0)</td><td style = \"text-align: right;\">1553</td><td style = \"text-align: right;\">true</td><td style = \"text-align: right;\">2061871</td><td style = \"text-align: right;\">2032294</td></tr><tr><td class = \"rowNumber\" style = \"font-weight: bold; text-align: right;\">118797</td><td style = \"text-align: left;\">vae_12393</td><td style = \"text-align: right;\">3377</td><td style = \"text-align: left;\">S8C1445</td><td style = \"text-align: left;\">Genome(OTU_97.45246.0)</td><td style = \"text-align: right;\">3377</td><td style = \"text-align: right;\">true</td><td style = \"text-align: right;\">2061871</td><td style = \"text-align: right;\">2032294</td></tr><tr><td class = \"rowNumber\" style = \"font-weight: bold; text-align: right;\">118798</td><td style = \"text-align: left;\">vae_12394</td><td style = \"text-align: right;\">10357</td><td style = \"text-align: left;\">S27C1289</td><td style = \"text-align: left;\">Genome(OTU_97.39039.1)</td><td style = \"text-align: right;\">10357</td><td style = \"text-align: right;\">true</td><td style = \"text-align: right;\">1883874</td><td style = \"text-align: right;\">1427908</td></tr><tr><td class = \"rowNumber\" style = \"font-weight: bold; text-align: right;\">118799</td><td style = \"text-align: left;\">vae_12394</td><td style = \"text-align: right;\">10357</td><td style = \"text-align: left;\">S27C1289</td><td style = \"text-align: left;\">Genome(OTU_97.42482.0)</td><td style = \"text-align: right;\">10357</td><td style = \"text-align: right;\">true</td><td style = \"text-align: right;\">1723396</td><td style = \"text-align: right;\">1635366</td></tr><tr><td class = \"rowNumber\" style = \"font-weight: bold; text-align: right;\">118800</td><td style = \"text-align: left;\">vae_12394</td><td style = \"text-align: right;\">10357</td><td style = \"text-align: left;\">S27C1289</td><td style = \"text-align: left;\">Genome(OTU_97.16586.1)</td><td style = \"text-align: right;\">10357</td><td style = \"text-align: right;\">true</td><td style = \"text-align: right;\">1731225</td><td style = \"text-align: right;\">1503150</td></tr><tr><td class = \"rowNumber\" style = \"font-weight: bold; text-align: right;\">118801</td><td style = \"text-align: left;\">vae_12394</td><td style = \"text-align: right;\">10357</td><td style = \"text-align: left;\">S27C1289</td><td style = \"text-align: left;\">Genome(OTU_97.44375.1)</td><td style = \"text-align: right;\">10357</td><td style = \"text-align: right;\">true</td><td style = \"text-align: right;\">1818666</td><td style = \"text-align: right;\">1704837</td></tr><tr><td class = \"rowNumber\" style = \"font-weight: bold; text-align: right;\">118802</td><td style = \"text-align: left;\">vae_12394</td><td style = \"text-align: right;\">10357</td><td style = \"text-align: left;\">S27C1289</td><td style = \"text-align: left;\">Genome(OTU_97.28759.0)</td><td style = \"text-align: right;\">10357</td><td style = \"text-align: right;\">true</td><td style = \"text-align: right;\">1974903</td><td style = \"text-align: right;\">1500673</td></tr><tr><td class = \"rowNumber\" style = \"font-weight: bold; text-align: right;\">118803</td><td style = \"text-align: left;\">vae_12394</td><td style = \"text-align: right;\">10357</td><td style = \"text-align: left;\">S27C1289</td><td style = \"text-align: left;\">Genome(OTU_97.32897.1)</td><td style = \"text-align: right;\">10357</td><td style = \"text-align: right;\">true</td><td style = \"text-align: right;\">1902248</td><td style = \"text-align: right;\">1475079</td></tr><tr><td class = \"rowNumber\" style = \"font-weight: bold; text-align: right;\">118804</td><td style = \"text-align: left;\">vae_12394</td><td style = \"text-align: right;\">10357</td><td style = \"text-align: left;\">S27C1289</td><td style = \"text-align: left;\">Genome(OTU_97.19375.0)</td><td style = \"text-align: right;\">10357</td><td style = \"text-align: right;\">true</td><td style = \"text-align: right;\">1875647</td><td style = \"text-align: right;\">1358384</td></tr><tr><td class = \"rowNumber\" style = \"font-weight: bold; text-align: right;\">118805</td><td style = \"text-align: left;\">vae_12394</td><td style = \"text-align: right;\">10357</td><td style = \"text-align: left;\">S27C1289</td><td style = \"text-align: left;\">Genome(OTU_97.34134.1)</td><td style = \"text-align: right;\">10357</td><td style = \"text-align: right;\">true</td><td style = \"text-align: right;\">1915835</td><td style = \"text-align: right;\">1323953</td></tr><tr><td class = \"rowNumber\" style = \"font-weight: bold; text-align: right;\">118806</td><td style = \"text-align: left;\">vae_12394</td><td style = \"text-align: right;\">10357</td><td style = \"text-align: left;\">S27C1289</td><td style = \"text-align: left;\">Genome(OTU_97.42441.0)</td><td style = \"text-align: right;\">10357</td><td style = \"text-align: right;\">true</td><td style = \"text-align: right;\">1862708</td><td style = \"text-align: right;\">1554604</td></tr><tr><td class = \"rowNumber\" style = \"font-weight: bold; text-align: right;\">118807</td><td style = \"text-align: left;\">vae_12394</td><td style = \"text-align: right;\">10357</td><td style = \"text-align: left;\">S27C1289</td><td style = \"text-align: left;\">Genome(OTU_97.34346.0)</td><td style = \"text-align: right;\">10357</td><td style = \"text-align: right;\">true</td><td style = \"text-align: right;\">1967773</td><td style = \"text-align: right;\">1586966</td></tr></tbody></table></div>"
      ],
      "text/latex": [
       "\\begin{tabular}{r|cccccc}\n",
       "\t& bin & total\\_bin\\_contig\\_len & from\\_contig & genome & contig\\_len & \\\\\n",
       "\t\\hline\n",
       "\t& SubStrin… & Int64? & Any & Any & Int64 & \\\\\n",
       "\t\\hline\n",
       "\t1 & vae\\_1 & 3106 & S27C4450 & Genome(OTU\\_97.588.0) & 3106 & $\\dots$ \\\\\n",
       "\t2 & vae\\_2 & 2361 & S12C1544 & Genome(OTU\\_97.21926.0) & 2361 & $\\dots$ \\\\\n",
       "\t3 & vae\\_3 & 2701 & S7C2371 & Genome(OTU\\_97.39888.0) & 2701 & $\\dots$ \\\\\n",
       "\t4 & vae\\_3 & 2701 & S7C2371 & Genome(OTU\\_97.44564.0) & 2701 & $\\dots$ \\\\\n",
       "\t5 & vae\\_3 & 2701 & S7C2371 & Genome(OTU\\_97.23667.1) & 2701 & $\\dots$ \\\\\n",
       "\t6 & vae\\_4 & 2971 & S12C1209 & Genome(OTU\\_97.22413.1) & 2971 & $\\dots$ \\\\\n",
       "\t7 & vae\\_5 & 3199 & S27C4277 & Genome(OTU\\_97.35048.0) & 3199 & $\\dots$ \\\\\n",
       "\t8 & vae\\_6 & 3110 & S12C1157 & Genome(OTU\\_97.22413.1) & 3110 & $\\dots$ \\\\\n",
       "\t9 & vae\\_7 & 2396 & S9C3566 & Genome(OTU\\_97.24447.1) & 2396 & $\\dots$ \\\\\n",
       "\t10 & vae\\_8 & 2933 & S9C2770 & Genome(st\\_CP005085.1) & 2933 & $\\dots$ \\\\\n",
       "\t11 & vae\\_9 & 3148 & S27C4377 & Genome(OTU\\_97.35048.0) & 3148 & $\\dots$ \\\\\n",
       "\t12 & vae\\_10 & 1796 & S26C4984 & Genome(OTU\\_97.1365.0) & 1796 & $\\dots$ \\\\\n",
       "\t13 & vae\\_10 & 1796 & S26C4984 & Genome(OTU\\_97.41724.0) & 1796 & $\\dots$ \\\\\n",
       "\t14 & vae\\_11 & 1980 & S7C3465 & Genome(OTU\\_97.37290.0) & 1980 & $\\dots$ \\\\\n",
       "\t15 & vae\\_12 & 2440 & S10C3101 & Genome(OTU\\_97.36185.0) & 2440 & $\\dots$ \\\\\n",
       "\t16 & vae\\_12 & 2440 & S10C3101 & Genome(OTU\\_97.35278.0) & 2440 & $\\dots$ \\\\\n",
       "\t17 & vae\\_12 & 2440 & S10C3101 & Genome(OTU\\_97.45281.0) & 2440 & $\\dots$ \\\\\n",
       "\t18 & vae\\_12 & 2440 & S10C3101 & Genome(OTU\\_97.31374.0) & 2440 & $\\dots$ \\\\\n",
       "\t19 & vae\\_12 & 2440 & S10C3101 & Genome(OTU\\_97.31167.1) & 2440 & $\\dots$ \\\\\n",
       "\t20 & vae\\_12 & 2440 & S10C3101 & Genome(OTU\\_97.19917.0) & 2440 & $\\dots$ \\\\\n",
       "\t21 & vae\\_13 & 2608 & S4C4965 & Genome(OTU\\_97.44294.0) & 2608 & $\\dots$ \\\\\n",
       "\t22 & vae\\_14 & 21712893 & S9C578 & Genome(st\\_CP017076.1) & 10880 & $\\dots$ \\\\\n",
       "\t23 & vae\\_14 & 21712893 & S9C918 & Genome(OTU\\_97.36161.1) & 7765 & $\\dots$ \\\\\n",
       "\t24 & vae\\_14 & 21712893 & S7C543 & Genome(OTU\\_97.30815.1) & 14100 & $\\dots$ \\\\\n",
       "\t25 & vae\\_14 & 21712893 & S11C14 & Genome(OTU\\_97.36185.0) & 178011 & $\\dots$ \\\\\n",
       "\t26 & vae\\_14 & 21712893 & S10C403 & Genome(OTU\\_97.41428.0) & 24376 & $\\dots$ \\\\\n",
       "\t27 & vae\\_14 & 21712893 & S7C1988 & Genome(st\\_AE015933.1) & 3182 & $\\dots$ \\\\\n",
       "\t28 & vae\\_14 & 21712893 & S10C250 & Genome(OTU\\_97.44585.0) & 40599 & $\\dots$ \\\\\n",
       "\t29 & vae\\_14 & 21712893 & S10C250 & Genome(OTU\\_97.36233.0) & 40599 & $\\dots$ \\\\\n",
       "\t30 & vae\\_14 & 21712893 & S10C250 & Genome(OTU\\_97.37297.1) & 40599 & $\\dots$ \\\\\n",
       "\t$\\dots$ & $\\dots$ & $\\dots$ & $\\dots$ & $\\dots$ & $\\dots$ &  \\\\\n",
       "\\end{tabular}\n"
      ],
      "text/plain": [
       "\u001b[1m118807×8 DataFrame\u001b[0m\n",
       "\u001b[1m    Row \u001b[0m│\u001b[1m bin       \u001b[0m\u001b[1m total_bin_contig_len \u001b[0m\u001b[1m from_contig \u001b[0m\u001b[1m genome                \u001b[0m ⋯\n",
       "        │\u001b[90m SubStrin… \u001b[0m\u001b[90m Int64?               \u001b[0m\u001b[90m Any         \u001b[0m\u001b[90m Any                   \u001b[0m ⋯\n",
       "────────┼───────────────────────────────────────────────────────────────────────\n",
       "      1 │ vae_1                      3106  S27C4450     Genome(OTU_97.588.0)   ⋯\n",
       "      2 │ vae_2                      2361  S12C1544     Genome(OTU_97.21926.0)\n",
       "      3 │ vae_3                      2701  S7C2371      Genome(OTU_97.39888.0)\n",
       "      4 │ vae_3                      2701  S7C2371      Genome(OTU_97.44564.0)\n",
       "      5 │ vae_3                      2701  S7C2371      Genome(OTU_97.23667.1) ⋯\n",
       "      6 │ vae_4                      2971  S12C1209     Genome(OTU_97.22413.1)\n",
       "      7 │ vae_5                      3199  S27C4277     Genome(OTU_97.35048.0)\n",
       "      8 │ vae_6                      3110  S12C1157     Genome(OTU_97.22413.1)\n",
       "      9 │ vae_7                      2396  S9C3566      Genome(OTU_97.24447.1) ⋯\n",
       "     10 │ vae_8                      2933  S9C2770      Genome(st_CP005085.1)\n",
       "     11 │ vae_9                      3148  S27C4377     Genome(OTU_97.35048.0)\n",
       "   ⋮    │     ⋮               ⋮                 ⋮                 ⋮            ⋱\n",
       " 118798 │ vae_12394                 10357  S27C1289     Genome(OTU_97.39039.1)\n",
       " 118799 │ vae_12394                 10357  S27C1289     Genome(OTU_97.42482.0) ⋯\n",
       " 118800 │ vae_12394                 10357  S27C1289     Genome(OTU_97.16586.1)\n",
       " 118801 │ vae_12394                 10357  S27C1289     Genome(OTU_97.44375.1)\n",
       " 118802 │ vae_12394                 10357  S27C1289     Genome(OTU_97.28759.0)\n",
       " 118803 │ vae_12394                 10357  S27C1289     Genome(OTU_97.32897.1) ⋯\n",
       " 118804 │ vae_12394                 10357  S27C1289     Genome(OTU_97.19375.0)\n",
       " 118805 │ vae_12394                 10357  S27C1289     Genome(OTU_97.34134.1)\n",
       " 118806 │ vae_12394                 10357  S27C1289     Genome(OTU_97.42441.0)\n",
       " 118807 │ vae_12394                 10357  S27C1289     Genome(OTU_97.34346.0) ⋯\n",
       "\u001b[36m                                               4 columns and 118786 rows omitted\u001b[0m"
      ]
     },
     "execution_count": 80,
     "metadata": {},
     "output_type": "execute_result"
    }
   ],
   "source": [
    "\n",
    "# Removes copies of the same genomes for a each contigs\n",
    "df_unique = @chain df begin \n",
    "    @group_by(from_contig, genome)\n",
    "    @summarise( genome = first(genome), \n",
    "                contig_len = first(contig_len),\n",
    "                bin = first(bin),\n",
    "                from_contig = first(from_contig),\n",
    "                typ = first(typ),\n",
    "                genome_size = first(genome_size),\n",
    "                assembly_size = first(assembly_size)\n",
    "    )\n",
    "    @ungroup()\n",
    "end\n",
    "\n",
    "# Get the total contig length for each bin and add it to the normal dataframe\n",
    "df_with_contig_len = @chain df_unique begin\n",
    "    @group_by(bin, from_contig)\n",
    "    @summarise(contig_len = first(contig_len)\n",
    "        )\n",
    "    @ungroup()\n",
    "    \n",
    "    @group_by(bin)\n",
    "    @summarise(\n",
    "        total_bin_contig_len = sum(contig_len)\n",
    "        )\n",
    "    @ungroup()\n",
    "    @right_join(df_unique, bin)\n",
    "end"
   ]
  },
  {
   "cell_type": "code",
   "execution_count": 2,
   "id": "e17fe716-5b6f-478b-a3b2-c06631eb19e8",
   "metadata": {},
   "outputs": [
    {
     "ename": "LoadError",
     "evalue": "LoadError: UndefVarError: `@chain` not defined\nin expression starting at In[2]:4",
     "output_type": "error",
     "traceback": [
      "LoadError: UndefVarError: `@chain` not defined\nin expression starting at In[2]:4",
      ""
     ]
    }
   ],
   "source": [
    "\n",
    "\n",
    "# Get the total contig length for each genome in each bin\n",
    "df2 = @chain df_with_contig_len begin\n",
    "    @group_by(bin, genome)\n",
    "    @summarise(genome_contig_len = sum(contig_len),\n",
    "               total_bin_contig_len = first(total_bin_contig_len),\n",
    "        genome_size = first(genome_size),\n",
    "        assembly_size = first(assembly_size)\n",
    "        ) # Save the total bin length af the summarise\n",
    "    @ungroup()\n",
    "end\n",
    "\n",
    "# Calculate the percent size of each contigs for each genome w.r.t the total contig size of the bin\n",
    "df3 = @chain df2 begin\n",
    "    @group_by(bin)\n",
    "    @mutate(\n",
    "        precision = genome_contig_len/total_bin_contig_len,\n",
    "        #recall = genome_contig_len/assembly_size\n",
    "        recall = genome_contig_len/genome_size\n",
    "        #FP = (total_bin_contig_len-genome_contig_len),\n",
    "        #TP = (assembly_size/genome_size),\n",
    "    )\n",
    "    #@mutate(FN = genome_size - TP)\n",
    "    #@mutate(\n",
    "        #TPR = TP/(TP+FN),\n",
    "    #)\n",
    "    @ungroup()\n",
    "    @arrange(desc(precision))\n",
    "    #@filter(percent > 0.95)\n",
    "end\n",
    "\n",
    "# and the percent size of each\n",
    "df4 = @chain df3 begin\n",
    "    @group_by(bin)\n",
    "    @filter(precision ==  maximum(precision))\n",
    "    @ungroup()\n",
    "    @arrange(desc(precision),desc(recall))\n",
    "    #@filter(precision > 0.95, recall > 0.9 )\n",
    "    #@filter( recall > 0.9 )\n",
    "    @filter(precision > 0.95)\n",
    "end\n",
    "#93182/130000\n",
    "#df4\n",
    "#23062/28113\n"
   ]
  },
  {
   "cell_type": "code",
   "execution_count": null,
   "id": "5921af66-013e-43ce-966f-3882c7d9dca8",
   "metadata": {},
   "outputs": [],
   "source": []
  },
  {
   "cell_type": "code",
   "execution_count": 76,
   "id": "e0588d09-9513-43c1-806f-b1a21d8e08f7",
   "metadata": {},
   "outputs": [
    {
     "data": {
      "text/html": [
       "<div><div style = \"float: left;\"><span>12204×6 DataFrame</span></div><div style = \"float: right;\"><span style = \"font-style: italic;\">12179 rows omitted</span></div><div style = \"clear: both;\"></div></div><div class = \"data-frame\" style = \"overflow-x: scroll;\"><table class = \"data-frame\" style = \"margin-bottom: 6px;\"><thead><tr class = \"header\"><th class = \"rowNumber\" style = \"font-weight: bold; text-align: right;\">Row</th><th style = \"text-align: left;\">bin</th><th style = \"text-align: left;\">genome</th><th style = \"text-align: left;\">genome_contig_len</th><th style = \"text-align: left;\">total_bin_contig_len</th><th style = \"text-align: left;\">genome_size</th><th style = \"text-align: left;\">percent</th></tr><tr class = \"subheader headerLastRow\"><th class = \"rowNumber\" style = \"font-weight: bold; text-align: right;\"></th><th title = \"SubString{String}\" style = \"text-align: left;\">SubStrin…</th><th title = \"Any\" style = \"text-align: left;\">Any</th><th title = \"Int64\" style = \"text-align: left;\">Int64</th><th title = \"Int64\" style = \"text-align: left;\">Int64</th><th title = \"Int64\" style = \"text-align: left;\">Int64</th><th title = \"Float64\" style = \"text-align: left;\">Float64</th></tr></thead><tbody><tr><td class = \"rowNumber\" style = \"font-weight: bold; text-align: right;\">1</td><td style = \"text-align: left;\">vae_209</td><td style = \"text-align: left;\">Genome(st_AE015932.1)</td><td style = \"text-align: right;\">15065</td><td style = \"text-align: right;\">24221958</td><td style = \"text-align: right;\">8198</td><td style = \"text-align: right;\">1.83764</td></tr><tr><td class = \"rowNumber\" style = \"font-weight: bold; text-align: right;\">2</td><td style = \"text-align: left;\">vae_251</td><td style = \"text-align: left;\">Genome(OTU_97.34663.1)</td><td style = \"text-align: right;\">3514421</td><td style = \"text-align: right;\">25337472</td><td style = \"text-align: right;\">2691660</td><td style = \"text-align: right;\">1.30567</td></tr><tr><td class = \"rowNumber\" style = \"font-weight: bold; text-align: right;\">3</td><td style = \"text-align: left;\">vae_112</td><td style = \"text-align: left;\">Genome(st_AE015931.1)</td><td style = \"text-align: right;\">6284</td><td style = \"text-align: right;\">8495575</td><td style = \"text-align: right;\">4828</td><td style = \"text-align: right;\">1.30157</td></tr><tr><td class = \"rowNumber\" style = \"font-weight: bold; text-align: right;\">4</td><td style = \"text-align: left;\">vae_159</td><td style = \"text-align: left;\">Genome(OTU_97.45281.1)</td><td style = \"text-align: right;\">4045180</td><td style = \"text-align: right;\">16978673</td><td style = \"text-align: right;\">3392564</td><td style = \"text-align: right;\">1.19237</td></tr><tr><td class = \"rowNumber\" style = \"font-weight: bold; text-align: right;\">5</td><td style = \"text-align: left;\">vae_99</td><td style = \"text-align: left;\">Genome(OTU_97.17807.0)</td><td style = \"text-align: right;\">2706016</td><td style = \"text-align: right;\">18627884</td><td style = \"text-align: right;\">2433571</td><td style = \"text-align: right;\">1.11195</td></tr><tr><td class = \"rowNumber\" style = \"font-weight: bold; text-align: right;\">6</td><td style = \"text-align: left;\">vae_62</td><td style = \"text-align: left;\">Genome(st_CP003925.1)</td><td style = \"text-align: right;\">50569</td><td style = \"text-align: right;\">4621091</td><td style = \"text-align: right;\">46627</td><td style = \"text-align: right;\">1.08454</td></tr><tr><td class = \"rowNumber\" style = \"font-weight: bold; text-align: right;\">7</td><td style = \"text-align: left;\">vae_385</td><td style = \"text-align: left;\">Genome(st_CP007157.1)</td><td style = \"text-align: right;\">43331</td><td style = \"text-align: right;\">2215872</td><td style = \"text-align: right;\">42636</td><td style = \"text-align: right;\">1.0163</td></tr><tr><td class = \"rowNumber\" style = \"font-weight: bold; text-align: right;\">8</td><td style = \"text-align: left;\">vae_227</td><td style = \"text-align: left;\">Genome(st_CP001728.1)</td><td style = \"text-align: right;\">94436</td><td style = \"text-align: right;\">12177343</td><td style = \"text-align: right;\">92982</td><td style = \"text-align: right;\">1.01564</td></tr><tr><td class = \"rowNumber\" style = \"font-weight: bold; text-align: right;\">9</td><td style = \"text-align: left;\">vae_187</td><td style = \"text-align: left;\">Genome(st_CP012912.1)</td><td style = \"text-align: right;\">11695</td><td style = \"text-align: right;\">8643445</td><td style = \"text-align: right;\">11619</td><td style = \"text-align: right;\">1.00654</td></tr><tr><td class = \"rowNumber\" style = \"font-weight: bold; text-align: right;\">10</td><td style = \"text-align: left;\">vae_243</td><td style = \"text-align: left;\">Genome(st_CP000045.2)</td><td style = \"text-align: right;\">4548</td><td style = \"text-align: right;\">890085</td><td style = \"text-align: right;\">4578</td><td style = \"text-align: right;\">0.993447</td></tr><tr><td class = \"rowNumber\" style = \"font-weight: bold; text-align: right;\">11</td><td style = \"text-align: left;\">vae_309</td><td style = \"text-align: left;\">Genome(st_CP008945.1)</td><td style = \"text-align: right;\">48423</td><td style = \"text-align: right;\">3248476</td><td style = \"text-align: right;\">48759</td><td style = \"text-align: right;\">0.993109</td></tr><tr><td class = \"rowNumber\" style = \"font-weight: bold; text-align: right;\">12</td><td style = \"text-align: left;\">vae_730</td><td style = \"text-align: left;\">Genome(st_CP000045.2)</td><td style = \"text-align: right;\">4546</td><td style = \"text-align: right;\">10658034</td><td style = \"text-align: right;\">4578</td><td style = \"text-align: right;\">0.99301</td></tr><tr><td class = \"rowNumber\" style = \"font-weight: bold; text-align: right;\">13</td><td style = \"text-align: left;\">vae_830</td><td style = \"text-align: left;\">Genome(st_AE015930.1)</td><td style = \"text-align: right;\">4549</td><td style = \"text-align: right;\">2701581</td><td style = \"text-align: right;\">4585</td><td style = \"text-align: right;\">0.992148</td></tr><tr><td style = \"text-align: right;\">&vellip;</td><td style = \"text-align: right;\">&vellip;</td><td style = \"text-align: right;\">&vellip;</td><td style = \"text-align: right;\">&vellip;</td><td style = \"text-align: right;\">&vellip;</td><td style = \"text-align: right;\">&vellip;</td><td style = \"text-align: right;\">&vellip;</td></tr><tr><td class = \"rowNumber\" style = \"font-weight: bold; text-align: right;\">12193</td><td style = \"text-align: left;\">vae_12156</td><td style = \"text-align: left;\">Genome(OTU_97.13698.0)</td><td style = \"text-align: right;\">1508</td><td style = \"text-align: right;\">1508</td><td style = \"text-align: right;\">5641792</td><td style = \"text-align: right;\">0.000267291</td></tr><tr><td class = \"rowNumber\" style = \"font-weight: bold; text-align: right;\">12194</td><td style = \"text-align: left;\">vae_6099</td><td style = \"text-align: left;\">Genome(OTU_97.513.0)</td><td style = \"text-align: right;\">1849</td><td style = \"text-align: right;\">1849</td><td style = \"text-align: right;\">6923330</td><td style = \"text-align: right;\">0.000267068</td></tr><tr><td class = \"rowNumber\" style = \"font-weight: bold; text-align: right;\">12195</td><td style = \"text-align: left;\">vae_4650</td><td style = \"text-align: left;\">Genome(OTU_97.513.0)</td><td style = \"text-align: right;\">1848</td><td style = \"text-align: right;\">1848</td><td style = \"text-align: right;\">6923330</td><td style = \"text-align: right;\">0.000266924</td></tr><tr><td class = \"rowNumber\" style = \"font-weight: bold; text-align: right;\">12196</td><td style = \"text-align: left;\">vae_5340</td><td style = \"text-align: left;\">Genome(OTU_97.513.0)</td><td style = \"text-align: right;\">1848</td><td style = \"text-align: right;\">1848</td><td style = \"text-align: right;\">6923330</td><td style = \"text-align: right;\">0.000266924</td></tr><tr><td class = \"rowNumber\" style = \"font-weight: bold; text-align: right;\">12197</td><td style = \"text-align: left;\">vae_810</td><td style = \"text-align: left;\">Genome(OTU_97.513.0)</td><td style = \"text-align: right;\">1846</td><td style = \"text-align: right;\">1846</td><td style = \"text-align: right;\">6923330</td><td style = \"text-align: right;\">0.000266635</td></tr><tr><td class = \"rowNumber\" style = \"font-weight: bold; text-align: right;\">12198</td><td style = \"text-align: left;\">vae_7443</td><td style = \"text-align: left;\">Genome(OTU_97.513.0)</td><td style = \"text-align: right;\">1843</td><td style = \"text-align: right;\">1843</td><td style = \"text-align: right;\">6923330</td><td style = \"text-align: right;\">0.000266201</td></tr><tr><td class = \"rowNumber\" style = \"font-weight: bold; text-align: right;\">12199</td><td style = \"text-align: left;\">vae_5364</td><td style = \"text-align: left;\">Genome(OTU_97.513.0)</td><td style = \"text-align: right;\">1839</td><td style = \"text-align: right;\">1839</td><td style = \"text-align: right;\">6923330</td><td style = \"text-align: right;\">0.000265624</td></tr><tr><td class = \"rowNumber\" style = \"font-weight: bold; text-align: right;\">12200</td><td style = \"text-align: left;\">vae_9475</td><td style = \"text-align: left;\">Genome(OTU_97.513.0)</td><td style = \"text-align: right;\">1837</td><td style = \"text-align: right;\">1837</td><td style = \"text-align: right;\">6923330</td><td style = \"text-align: right;\">0.000265335</td></tr><tr><td class = \"rowNumber\" style = \"font-weight: bold; text-align: right;\">12201</td><td style = \"text-align: left;\">vae_11256</td><td style = \"text-align: left;\">Genome(OTU_97.513.0)</td><td style = \"text-align: right;\">1826</td><td style = \"text-align: right;\">1826</td><td style = \"text-align: right;\">6923330</td><td style = \"text-align: right;\">0.000263746</td></tr><tr><td class = \"rowNumber\" style = \"font-weight: bold; text-align: right;\">12202</td><td style = \"text-align: left;\">vae_1421</td><td style = \"text-align: left;\">Genome(OTU_97.1426.0)</td><td style = \"text-align: right;\">1819</td><td style = \"text-align: right;\">1819</td><td style = \"text-align: right;\">7100379</td><td style = \"text-align: right;\">0.000256184</td></tr><tr><td class = \"rowNumber\" style = \"font-weight: bold; text-align: right;\">12203</td><td style = \"text-align: left;\">vae_1005</td><td style = \"text-align: left;\">Genome(OTU_97.11086.0)</td><td style = \"text-align: right;\">1487</td><td style = \"text-align: right;\">1487</td><td style = \"text-align: right;\">5904165</td><td style = \"text-align: right;\">0.000251856</td></tr><tr><td class = \"rowNumber\" style = \"font-weight: bold; text-align: right;\">12204</td><td style = \"text-align: left;\">vae_6116</td><td style = \"text-align: left;\">Genome(OTU_97.11086.0)</td><td style = \"text-align: right;\">1481</td><td style = \"text-align: right;\">1481</td><td style = \"text-align: right;\">5904165</td><td style = \"text-align: right;\">0.00025084</td></tr></tbody></table></div>"
      ],
      "text/latex": [
       "\\begin{tabular}{r|cccccc}\n",
       "\t& bin & genome & genome\\_contig\\_len & total\\_bin\\_contig\\_len & genome\\_size & \\\\\n",
       "\t\\hline\n",
       "\t& SubStrin… & Any & Int64 & Int64 & Int64 & \\\\\n",
       "\t\\hline\n",
       "\t1 & vae\\_209 & Genome(st\\_AE015932.1) & 15065 & 24221958 & 8198 & $\\dots$ \\\\\n",
       "\t2 & vae\\_251 & Genome(OTU\\_97.34663.1) & 3514421 & 25337472 & 2691660 & $\\dots$ \\\\\n",
       "\t3 & vae\\_112 & Genome(st\\_AE015931.1) & 6284 & 8495575 & 4828 & $\\dots$ \\\\\n",
       "\t4 & vae\\_159 & Genome(OTU\\_97.45281.1) & 4045180 & 16978673 & 3392564 & $\\dots$ \\\\\n",
       "\t5 & vae\\_99 & Genome(OTU\\_97.17807.0) & 2706016 & 18627884 & 2433571 & $\\dots$ \\\\\n",
       "\t6 & vae\\_62 & Genome(st\\_CP003925.1) & 50569 & 4621091 & 46627 & $\\dots$ \\\\\n",
       "\t7 & vae\\_385 & Genome(st\\_CP007157.1) & 43331 & 2215872 & 42636 & $\\dots$ \\\\\n",
       "\t8 & vae\\_227 & Genome(st\\_CP001728.1) & 94436 & 12177343 & 92982 & $\\dots$ \\\\\n",
       "\t9 & vae\\_187 & Genome(st\\_CP012912.1) & 11695 & 8643445 & 11619 & $\\dots$ \\\\\n",
       "\t10 & vae\\_243 & Genome(st\\_CP000045.2) & 4548 & 890085 & 4578 & $\\dots$ \\\\\n",
       "\t11 & vae\\_309 & Genome(st\\_CP008945.1) & 48423 & 3248476 & 48759 & $\\dots$ \\\\\n",
       "\t12 & vae\\_730 & Genome(st\\_CP000045.2) & 4546 & 10658034 & 4578 & $\\dots$ \\\\\n",
       "\t13 & vae\\_830 & Genome(st\\_AE015930.1) & 4549 & 2701581 & 4585 & $\\dots$ \\\\\n",
       "\t14 & vae\\_408 & Genome(st\\_CP002197.1) & 53425 & 4605990 & 54163 & $\\dots$ \\\\\n",
       "\t15 & vae\\_2326 & Genome(st\\_CP010108.1) & 49859 & 1511690 & 50563 & $\\dots$ \\\\\n",
       "\t16 & vae\\_2130 & Genome(st\\_AP009045.1) & 49111 & 3879026 & 49811 & $\\dots$ \\\\\n",
       "\t17 & vae\\_815 & Genome(st\\_AP003139.1) & 24632 & 1910863 & 25051 & $\\dots$ \\\\\n",
       "\t18 & vae\\_14 & Genome(st\\_GQ866235.1) & 23849 & 21712893 & 24280 & $\\dots$ \\\\\n",
       "\t19 & vae\\_422 & Genome(st\\_AF401314.1) & 14316 & 5687220 & 14576 & $\\dots$ \\\\\n",
       "\t20 & vae\\_399 & Genome(st\\_AE015935.1) & 6636 & 1754097 & 6757 & $\\dots$ \\\\\n",
       "\t21 & vae\\_207 & Genome(st\\_CP007723.1) & 16794 & 1820390 & 17112 & $\\dots$ \\\\\n",
       "\t22 & vae\\_711 & Genome(st\\_CP011159.1) & 40371 & 3510768 & 41162 & $\\dots$ \\\\\n",
       "\t23 & vae\\_872 & Genome(st\\_CP015146.1) & 10484 & 2471625 & 10717 & $\\dots$ \\\\\n",
       "\t24 & vae\\_195 & Genome(st\\_CP007723.1) & 16731 & 9910176 & 17112 & $\\dots$ \\\\\n",
       "\t25 & vae\\_1491 & Genome(st\\_CP014098.1) & 8131 & 23490986 & 8326 & $\\dots$ \\\\\n",
       "\t26 & vae\\_3455 & Genome(st\\_FN649415.1) & 5165 & 57090 & 5293 & $\\dots$ \\\\\n",
       "\t27 & vae\\_70 & Genome(st\\_CP013337.1) & 5829 & 1334145 & 5983 & $\\dots$ \\\\\n",
       "\t28 & vae\\_2174 & Genome(st\\_AE015935.1) & 6573 & 54912 & 6757 & $\\dots$ \\\\\n",
       "\t29 & vae\\_839 & Genome(st\\_CP003669.1) & 4372 & 3819388 & 4500 & $\\dots$ \\\\\n",
       "\t30 & vae\\_2363 & Genome(st\\_AE015932.1) & 7964 & 22570 & 8198 & $\\dots$ \\\\\n",
       "\t$\\dots$ & $\\dots$ & $\\dots$ & $\\dots$ & $\\dots$ & $\\dots$ &  \\\\\n",
       "\\end{tabular}\n"
      ],
      "text/plain": [
       "\u001b[1m12204×6 DataFrame\u001b[0m\n",
       "\u001b[1m   Row \u001b[0m│\u001b[1m bin       \u001b[0m\u001b[1m genome                 \u001b[0m\u001b[1m genome_contig_len \u001b[0m\u001b[1m total_bin_conti\u001b[0m ⋯\n",
       "       │\u001b[90m SubStrin… \u001b[0m\u001b[90m Any                    \u001b[0m\u001b[90m Int64             \u001b[0m\u001b[90m Int64          \u001b[0m ⋯\n",
       "───────┼────────────────────────────────────────────────────────────────────────\n",
       "     1 │ vae_209    Genome(st_AE015932.1)               15065              242 ⋯\n",
       "     2 │ vae_251    Genome(OTU_97.34663.1)            3514421              253\n",
       "     3 │ vae_112    Genome(st_AE015931.1)                6284               84\n",
       "     4 │ vae_159    Genome(OTU_97.45281.1)            4045180              169\n",
       "     5 │ vae_99     Genome(OTU_97.17807.0)            2706016              186 ⋯\n",
       "     6 │ vae_62     Genome(st_CP003925.1)               50569               46\n",
       "     7 │ vae_385    Genome(st_CP007157.1)               43331               22\n",
       "     8 │ vae_227    Genome(st_CP001728.1)               94436              121\n",
       "     9 │ vae_187    Genome(st_CP012912.1)               11695               86 ⋯\n",
       "    10 │ vae_243    Genome(st_CP000045.2)                4548                8\n",
       "    11 │ vae_309    Genome(st_CP008945.1)               48423               32\n",
       "   ⋮   │     ⋮                ⋮                     ⋮                   ⋮      ⋱\n",
       " 12195 │ vae_4650   Genome(OTU_97.513.0)                 1848\n",
       " 12196 │ vae_5340   Genome(OTU_97.513.0)                 1848                  ⋯\n",
       " 12197 │ vae_810    Genome(OTU_97.513.0)                 1846\n",
       " 12198 │ vae_7443   Genome(OTU_97.513.0)                 1843\n",
       " 12199 │ vae_5364   Genome(OTU_97.513.0)                 1839\n",
       " 12200 │ vae_9475   Genome(OTU_97.513.0)                 1837                  ⋯\n",
       " 12201 │ vae_11256  Genome(OTU_97.513.0)                 1826\n",
       " 12202 │ vae_1421   Genome(OTU_97.1426.0)                1819\n",
       " 12203 │ vae_1005   Genome(OTU_97.11086.0)               1487\n",
       " 12204 │ vae_6116   Genome(OTU_97.11086.0)               1481                  ⋯\n",
       "\u001b[36m                                                3 columns and 12183 rows omitted\u001b[0m"
      ]
     },
     "execution_count": 76,
     "metadata": {},
     "output_type": "execute_result"
    }
   ],
   "source": [
    "df3 = @chain df2 begin\n",
    "    @group_by(bin)\n",
    "    @mutate(percent = genome_contig_len/genome_size)\n",
    "    @ungroup()\n",
    "    @arrange(desc(percent))\n",
    "    #@filter(percent > 0.95)\n",
    "end\n",
    "\n",
    "# and the percent size of each\n",
    "df4 = @chain df3 begin\n",
    "    @group_by(bin)\n",
    "    @filter(percent ==  maximum(percent))\n",
    "    @ungroup()\n",
    "    @arrange(desc(percent))\n",
    "    #@filter(percent > 0.95)\n",
    "end\n"
   ]
  },
  {
   "cell_type": "code",
   "execution_count": 66,
   "id": "3ed753dd-2f34-4569-83c1-fcc176482d89",
   "metadata": {},
   "outputs": [
    {
     "ename": "LoadError",
     "evalue": "IOError: open(\"/home/people/lasdan/.julia/logs/manifest_usage.toml.pid\", 194, 292): no space left on device (ENOSPC)",
     "output_type": "error",
     "traceback": [
      "IOError: open(\"/home/people/lasdan/.julia/logs/manifest_usage.toml.pid\", 194, 292): no space left on device (ENOSPC)",
      "",
      "Stacktrace:",
      "  [1] uv_error",
      "    @ ./libuv.jl:100 [inlined]",
      "  [2] open(path::String, flags::UInt16, mode::UInt16)",
      "    @ Base.Filesystem ./filesystem.jl:121",
      "  [3] tryopen_exclusive(path::String, mode::UInt16)",
      "    @ FileWatching.Pidfile ~/julia-1.9.4/share/julia/stdlib/v1.9/FileWatching/src/pidfile.jl:188",
      "  [4] open_exclusive(path::String; mode::UInt16, poll_interval::Int64, wait::Bool, stale_age::Int64)",
      "    @ FileWatching.Pidfile ~/julia-1.9.4/share/julia/stdlib/v1.9/FileWatching/src/pidfile.jl:210",
      "  [5] open_exclusive",
      "    @ ~/julia-1.9.4/share/julia/stdlib/v1.9/FileWatching/src/pidfile.jl:204 [inlined]",
      "  [6] mkpidlock(at::String, pid::Int32; stale_age::Int64, refresh::Float64, kwopts::Base.Pairs{Symbol, Union{}, Tuple{}, NamedTuple{(), Tuple{}}})",
      "    @ FileWatching.Pidfile ~/julia-1.9.4/share/julia/stdlib/v1.9/FileWatching/src/pidfile.jl:56",
      "  [7] mkpidlock",
      "    @ ~/julia-1.9.4/share/julia/stdlib/v1.9/FileWatching/src/pidfile.jl:51 [inlined]",
      "  [8] mkpidlock(f::Pkg.Types.var\"#51#54\"{String, String, Dates.DateTime, String}, at::String, pid::Int32; kwopts::Base.Pairs{Symbol, Int64, Tuple{Symbol}, NamedTuple{(:stale_age,), Tuple{Int64}}})",
      "    @ FileWatching.Pidfile ~/julia-1.9.4/share/julia/stdlib/v1.9/FileWatching/src/pidfile.jl:80",
      "  [9] mkpidlock",
      "    @ ~/julia-1.9.4/share/julia/stdlib/v1.9/FileWatching/src/pidfile.jl:79 [inlined]",
      " [10] #mkpidlock#6",
      "    @ ~/julia-1.9.4/share/julia/stdlib/v1.9/FileWatching/src/pidfile.jl:77 [inlined]",
      " [11] mkpidlock",
      "    @ ~/julia-1.9.4/share/julia/stdlib/v1.9/FileWatching/src/pidfile.jl:77 [inlined]",
      " [12] write_env_usage(source_file::String, usage_filepath::String)",
      "    @ Pkg.Types ~/julia-1.9.4/share/julia/stdlib/v1.9/Pkg/src/Types.jl:511",
      " [13] Pkg.Types.EnvCache(env::Nothing)",
      "    @ Pkg.Types ~/julia-1.9.4/share/julia/stdlib/v1.9/Pkg/src/Types.jl:366",
      " [14] EnvCache",
      "    @ ~/julia-1.9.4/share/julia/stdlib/v1.9/Pkg/src/Types.jl:345 [inlined]",
      " [15] Context",
      "    @ ./util.jl:567 [inlined]",
      " [16] rm(pkgs::Vector{Pkg.Types.PackageSpec}; io::IJulia.IJuliaStdio{Base.PipeEndpoint}, kwargs::Base.Pairs{Symbol, Union{}, Tuple{}, NamedTuple{(), Tuple{}}})",
      "    @ Pkg.API ~/julia-1.9.4/share/julia/stdlib/v1.9/Pkg/src/API.jl:147",
      " [17] rm(pkgs::Vector{Pkg.Types.PackageSpec})",
      "    @ Pkg.API ~/julia-1.9.4/share/julia/stdlib/v1.9/Pkg/src/API.jl:145",
      " [18] #rm#35",
      "    @ ~/julia-1.9.4/share/julia/stdlib/v1.9/Pkg/src/API.jl:144 [inlined]",
      " [19] rm",
      "    @ ~/julia-1.9.4/share/julia/stdlib/v1.9/Pkg/src/API.jl:144 [inlined]",
      " [20] #rm#34",
      "    @ ~/julia-1.9.4/share/julia/stdlib/v1.9/Pkg/src/API.jl:143 [inlined]",
      " [21] rm(pkg::String)",
      "    @ Pkg.API ~/julia-1.9.4/share/julia/stdlib/v1.9/Pkg/src/API.jl:143",
      " [22] top-level scope",
      "    @ In[66]:1"
     ]
    }
   ],
   "source": []
  },
  {
   "cell_type": "code",
   "execution_count": 392,
   "id": "a20f1ceb-95f7-449b-b9ff-ee8628010942",
   "metadata": {},
   "outputs": [
    {
     "data": {
      "text/html": [
       "<p><b>GroupedDataFrame with 6 groups based on keys: bin, genome</b></p><div><div style = \"float: left;\"><span>First Group (2 rows): bin = &quot;A&quot;, genome = &quot;G2&quot;</span></div><div style = \"clear: both;\"></div></div><div class = \"data-frame\" style = \"overflow-x: scroll;\"><table class = \"data-frame\" style = \"margin-bottom: 6px;\"><thead><tr class = \"header\"><th class = \"rowNumber\" style = \"font-weight: bold; text-align: right;\">Row</th><th style = \"text-align: left;\">bin</th><th style = \"text-align: left;\">genome</th></tr><tr class = \"subheader headerLastRow\"><th class = \"rowNumber\" style = \"font-weight: bold; text-align: right;\"></th><th title = \"Any\" style = \"text-align: left;\">Any</th><th title = \"Any\" style = \"text-align: left;\">Any</th></tr></thead><tbody><tr><td class = \"rowNumber\" style = \"font-weight: bold; text-align: right;\">1</td><td style = \"text-align: left;\">A</td><td style = \"text-align: left;\">G2</td></tr><tr><td class = \"rowNumber\" style = \"font-weight: bold; text-align: right;\">2</td><td style = \"text-align: left;\">A</td><td style = \"text-align: left;\">G2</td></tr></tbody></table></div><p>&vellip;</p><div><div style = \"float: left;\"><span>Last Group (3 rows): bin = &quot;B&quot;, genome = &quot;G3&quot;</span></div><div style = \"clear: both;\"></div></div><div class = \"data-frame\" style = \"overflow-x: scroll;\"><table class = \"data-frame\" style = \"margin-bottom: 6px;\"><thead><tr class = \"header\"><th class = \"rowNumber\" style = \"font-weight: bold; text-align: right;\">Row</th><th style = \"text-align: left;\">bin</th><th style = \"text-align: left;\">genome</th></tr><tr class = \"subheader headerLastRow\"><th class = \"rowNumber\" style = \"font-weight: bold; text-align: right;\"></th><th title = \"Any\" style = \"text-align: left;\">Any</th><th title = \"Any\" style = \"text-align: left;\">Any</th></tr></thead><tbody><tr><td class = \"rowNumber\" style = \"font-weight: bold; text-align: right;\">1</td><td style = \"text-align: left;\">B</td><td style = \"text-align: left;\">G3</td></tr><tr><td class = \"rowNumber\" style = \"font-weight: bold; text-align: right;\">2</td><td style = \"text-align: left;\">B</td><td style = \"text-align: left;\">G3</td></tr><tr><td class = \"rowNumber\" style = \"font-weight: bold; text-align: right;\">3</td><td style = \"text-align: left;\">B</td><td style = \"text-align: left;\">G3</td></tr></tbody></table></div>"
      ],
      "text/latex": [
       "GroupedDataFrame with 6 groups based on keys: bin, genome\n",
       "\n",
       "First Group (2 rows): bin = \"A\", genome = \"G2\"\n",
       "\n",
       "\\begin{tabular}{r|cc}\n",
       "\t& bin & genome\\\\\n",
       "\t\\hline\n",
       "\t& Any & Any\\\\\n",
       "\t\\hline\n",
       "\t1 & A & G2 \\\\\n",
       "\t2 & A & G2 \\\\\n",
       "\\end{tabular}\n",
       "\n",
       "$\\dots$\n",
       "\n",
       "Last Group (3 rows): bin = \"B\", genome = \"G3\"\n",
       "\n",
       "\\begin{tabular}{r|cc}\n",
       "\t& bin & genome\\\\\n",
       "\t\\hline\n",
       "\t& Any & Any\\\\\n",
       "\t\\hline\n",
       "\t1 & B & G3 \\\\\n",
       "\t2 & B & G3 \\\\\n",
       "\t3 & B & G3 \\\\\n",
       "\\end{tabular}\n"
      ],
      "text/plain": [
       "GroupedDataFrame with 6 groups based on keys: bin, genome\n",
       "First Group (2 rows): bin = \"A\", genome = \"G2\"\n",
       "\u001b[1m Row \u001b[0m│\u001b[1m bin \u001b[0m\u001b[1m genome \u001b[0m\n",
       "     │\u001b[90m Any \u001b[0m\u001b[90m Any    \u001b[0m\n",
       "─────┼─────────────\n",
       "   1 │ A    G2\n",
       "   2 │ A    G2\n",
       "⋮\n",
       "Last Group (3 rows): bin = \"B\", genome = \"G3\"\n",
       "\u001b[1m Row \u001b[0m│\u001b[1m bin \u001b[0m\u001b[1m genome \u001b[0m\n",
       "     │\u001b[90m Any \u001b[0m\u001b[90m Any    \u001b[0m\n",
       "─────┼─────────────\n",
       "   1 │ B    G3\n",
       "   2 │ B    G3\n",
       "   3 │ B    G3"
      ]
     },
     "execution_count": 392,
     "metadata": {},
     "output_type": "execute_result"
    }
   ],
   "source": [
    "df2 = @chain df begin\n",
    "    \n",
    "    @group_by(bin, genome)\n",
    "    #@summarise(number_genomes_in_bin = n())\n",
    "    #@mutate(sum_bin = sum(number_genomes_in_bin))\n",
    "    #@ungroup()\n",
    "\n",
    "    \n",
    "    #@group_by(bin)\n",
    "    #@mutate(percent = number_genomes_in_bin/sum_bin)\n",
    "    #@filter(percent ==  maximum(percent))\n",
    "    #@ungroup()\n",
    "    #@arrange(desc(percent))\n",
    "    #@filter(sum_bin > 10)\n",
    "end"
   ]
  },
  {
   "cell_type": "code",
   "execution_count": 141,
   "id": "a9d860d4-02c9-4d55-be69-662cc0a714f1",
   "metadata": {},
   "outputs": [
    {
     "data": {
      "text/plain": [
       "(Sequence(\"S7C63427\", 437), Tuple{Source{Genome}, UnitRange{Int64}}[(Source(LT635457.1, 1916314), 1367344:1367780)])"
      ]
     },
     "execution_count": 141,
     "metadata": {},
     "output_type": "execute_result"
    }
   ],
   "source": [
    "b=(a[2][1])"
   ]
  },
  {
   "cell_type": "code",
   "execution_count": 134,
   "id": "02de4ec0-5616-43d5-b580-36266f58e73b",
   "metadata": {},
   "outputs": [
    {
     "data": {
      "text/plain": [
       "Genome \"st_CP001002.1\"\n",
       "  Parent:        \"sp_CP001002.1\"\n",
       "  Genome size:   593579\n",
       "  Assembly size: 551283 (92.9 %)\n",
       "  Sources:       1\n",
       "  Flags:         4 (plasmid)"
      ]
     },
     "execution_count": 134,
     "metadata": {},
     "output_type": "execute_result"
    }
   ],
   "source": [
    "b=(a[2][1])\n",
    "b[1].genome"
   ]
  },
  {
   "cell_type": "code",
   "execution_count": 135,
   "id": "390defb5-40d0-468a-9db2-d2df6bd37a85",
   "metadata": {},
   "outputs": [
    {
     "data": {
      "text/plain": [
       "(Sequence(\"S11C77004\", 442), Tuple{Source{Genome}, UnitRange{Int64}}[(Source(CP001002.1, 593579), 79106:79547)])"
      ]
     },
     "execution_count": 135,
     "metadata": {},
     "output_type": "execute_result"
    }
   ],
   "source": [
    "a"
   ]
  },
  {
   "cell_type": "code",
   "execution_count": 125,
   "id": "44f03340-baea-4914-8994-14d98a9aea19",
   "metadata": {},
   "outputs": [
    {
     "data": {
      "text/plain": [
       "(Sequence(\"S23C40\", 93654), Tuple{Source{Genome}, UnitRange{Int64}}[])"
      ]
     },
     "execution_count": 125,
     "metadata": {},
     "output_type": "execute_result"
    }
   ],
   "source": [
    "ref.targets_by_name[\"S23C40\"]"
   ]
  },
  {
   "cell_type": "code",
   "execution_count": 107,
   "id": "f070f122-8ae7-437c-9ed1-9bf7010ba105",
   "metadata": {},
   "outputs": [
    {
     "data": {
      "text/plain": [
       "Reference\n",
       "  Genomes:    0\n",
       "  Sequences:  2605846\n",
       "  Ranks:      0\n",
       "  Seq length: 56\n",
       "  Assembled:  NaN %"
      ]
     },
     "execution_count": 107,
     "metadata": {},
     "output_type": "execute_result"
    }
   ],
   "source": [
    "ref.targets_by_name[\"S7C63427\"][2]\n",
    "ref\n"
   ]
  },
  {
   "cell_type": "code",
   "execution_count": 101,
   "id": "fd8eff87-3b5b-46e0-80eb-b102eda7e3c1",
   "metadata": {},
   "outputs": [
    {
     "name": "stdout",
     "output_type": "stream",
     "text": [
      "search: \u001b[0m\u001b[1mr\u001b[22m\u001b[0m\u001b[1me\u001b[22m\u001b[0m\u001b[1mf\u001b[22m \u001b[0m\u001b[1mR\u001b[22m\u001b[0m\u001b[1me\u001b[22m\u001b[0m\u001b[1mf\u001b[22m \u001b[0m\u001b[1mR\u001b[22m\u001b[0m\u001b[1me\u001b[22m\u001b[0m\u001b[1mf\u001b[22merence Weak\u001b[0m\u001b[1mR\u001b[22m\u001b[0m\u001b[1me\u001b[22m\u001b[0m\u001b[1mf\u001b[22m p\u001b[0m\u001b[1mr\u001b[22m\u001b[0m\u001b[1me\u001b[22mv\u001b[0m\u001b[1mf\u001b[22mloat chopp\u001b[0m\u001b[1mr\u001b[22m\u001b[0m\u001b[1me\u001b[22m\u001b[0m\u001b[1mf\u001b[22mix Undef\u001b[0m\u001b[1mR\u001b[22m\u001b[0m\u001b[1me\u001b[22m\u001b[0m\u001b[1mf\u001b[22mError Global\u001b[0m\u001b[1mR\u001b[22m\u001b[0m\u001b[1me\u001b[22m\u001b[0m\u001b[1mf\u001b[22m\n",
      "\n"
     ]
    },
    {
     "data": {
      "text/latex": [
       "No documentation found.\n",
       "\n",
       "\\texttt{ref} is of type \\texttt{Reference}.\n",
       "\n",
       "\\section{Summary}\n",
       "\\begin{verbatim}\n",
       "mutable struct Reference\n",
       "\\end{verbatim}\n",
       "\\section{Fields}\n",
       "\\begin{verbatim}\n",
       "genomes            :: Set{Genome}\n",
       "targets_by_name    :: Dict{String, Tuple{Sequence, Vector{Tuple{Source{Genome}, UnitRange{Int64}}}}}\n",
       "clades             :: Vector{Vector{Clade{Genome}}}\n",
       "shortest_seq_len   :: Union{LazilyInitializedFields.Uninitialized, Int64}\n",
       "fraction_assembled :: Union{LazilyInitializedFields.Uninitialized, Float64}\n",
       "\\end{verbatim}\n"
      ],
      "text/markdown": [
       "No documentation found.\n",
       "\n",
       "`ref` is of type `Reference`.\n",
       "\n",
       "# Summary\n",
       "\n",
       "```\n",
       "mutable struct Reference\n",
       "```\n",
       "\n",
       "# Fields\n",
       "\n",
       "```\n",
       "genomes            :: Set{Genome}\n",
       "targets_by_name    :: Dict{String, Tuple{Sequence, Vector{Tuple{Source{Genome}, UnitRange{Int64}}}}}\n",
       "clades             :: Vector{Vector{Clade{Genome}}}\n",
       "shortest_seq_len   :: Union{LazilyInitializedFields.Uninitialized, Int64}\n",
       "fraction_assembled :: Union{LazilyInitializedFields.Uninitialized, Float64}\n",
       "```\n"
      ],
      "text/plain": [
       "  No documentation found.\n",
       "\n",
       "  \u001b[36mref\u001b[39m is of type \u001b[36mReference\u001b[39m.\n",
       "\n",
       "\u001b[1m  Summary\u001b[22m\n",
       "\u001b[1m  ≡≡≡≡≡≡≡≡≡\u001b[22m\n",
       "\n",
       "\u001b[36m  mutable struct Reference\u001b[39m\n",
       "\n",
       "\u001b[1m  Fields\u001b[22m\n",
       "\u001b[1m  ≡≡≡≡≡≡≡≡\u001b[22m\n",
       "\n",
       "\u001b[36m  genomes            :: Set{Genome}\u001b[39m\n",
       "\u001b[36m  targets_by_name    :: Dict{String, Tuple{Sequence, Vector{Tuple{Source{Genome}, UnitRange{Int64}}}}}\u001b[39m\n",
       "\u001b[36m  clades             :: Vector{Vector{Clade{Genome}}}\u001b[39m\n",
       "\u001b[36m  shortest_seq_len   :: Union{LazilyInitializedFields.Uninitialized, Int64}\u001b[39m\n",
       "\u001b[36m  fraction_assembled :: Union{LazilyInitializedFields.Uninitialized, Float64}\u001b[39m"
      ]
     },
     "execution_count": 101,
     "metadata": {},
     "output_type": "execute_result"
    }
   ],
   "source": [
    "?ref"
   ]
  }
 ],
 "metadata": {
  "kernelspec": {
   "display_name": "Julia 1.9.4",
   "language": "julia",
   "name": "julia-1.9"
  },
  "language_info": {
   "file_extension": ".jl",
   "mimetype": "application/julia",
   "name": "julia",
   "version": "1.9.4"
  }
 },
 "nbformat": 4,
 "nbformat_minor": 5
}
